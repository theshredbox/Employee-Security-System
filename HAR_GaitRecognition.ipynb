{
  "cells": [
    {
      "cell_type": "markdown",
      "source": [
        "\n",
        "#**BUILDING A NEW EMPLOYEE SECURITY SYSTEM**\n",
        "\n",
        "Name- Aryan Ahuja\n"
      ],
      "metadata": {
        "id": "NmZ4h0laebph"
      }
    },
    {
      "cell_type": "markdown",
      "source": [
        "Problem Statement- You, as the Security analyst, at Stark Industries, have been tasked to build a new contactless employee check-in system. Currently the employees use a physical keycard for entry into the building like shown below. \n",
        "\n",
        "You have come up with a new idea that uses the employees smartphone and machine learning to provide a contactless system where when an employee enters the firm’s territory, his or her smartphone connects to the server and transmits data from the employee smartphone sensor data like the accelerometer's data. The server performs the calculations and determines this person as\n",
        "one of the employees using Gait analysis. Essentially it compares the current pattern of the employee’s gait with the historial pattern and if there is a match, the doors automatically open for the employee to walk in. \n",
        "\n",
        "To test your idea, you have built a dataset of 30 employees and their daily activities here. Design and develop a system that will perform the gait analysis. \n"
      ],
      "metadata": {
        "id": "jFWi-m_Iebm5"
      }
    },
    {
      "cell_type": "markdown",
      "source": [
        "###**GAIT ANALYSIS**\n",
        "Gait analysis is an assessment of the way the body moves, usually by walking or running, from one place to another. The purpose of gait analysis is to detect any abnormalities in locomotion.\n",
        "\n",
        "\n",
        "<p align=\"left\">\n",
        "  <img width=\"600\" height=\"325\" src=\"https://upload.wikimedia.org/wikipedia/commons/9/97/Two_repetitions_of_a_walking_sequence_of_an_individual_recorded_using_a_motion-capture_system.gif\">\n",
        "</p>"
      ],
      "metadata": {
        "id": "5Nq_FIYggOCn"
      }
    },
    {
      "cell_type": "markdown",
      "source": [
        "##**MAIN IDEOLOGY AND WORKFLOW**\n",
        "In order to make predictions on and sense human activity, we aim at analazying the HAR Dataset and hence performing gait recognition using several ML Models to make predictions. \n",
        "\n",
        "Models like LSTM, Random Forest, Decision Tree and KNN are trained and then can be compared on the basis of their accuracies, F1 Score (complete classification report) and a final confusion matrix can be depicted for each of these models.\n",
        "\n",
        "The models with the highest accuracies are saved as pickle objects and hence they can be deployed and implemented as a full fledged Security System."
      ],
      "metadata": {
        "id": "OM_TuYhJf1b4"
      }
    },
    {
      "cell_type": "markdown",
      "source": [
        "##**ACTIVITIES BEING DETECTED**\n",
        "1. WALKING \n",
        "2. WALKING_UPSTAIRS \n",
        "3. WALKING_DOWNSTAIRS\n",
        "4. SITTING\n",
        "5. STANDING\n",
        "6. LAYING"
      ],
      "metadata": {
        "id": "gOcIa2FxhpT9"
      }
    },
    {
      "cell_type": "markdown",
      "metadata": {
        "id": "R6WcTYGDMIud"
      },
      "source": [
        "##**LSTM MODEL**"
      ]
    },
    {
      "cell_type": "code",
      "execution_count": null,
      "metadata": {
        "colab": {
          "base_uri": "https://localhost:8080/"
        },
        "id": "8WxZUIFDQpfG",
        "outputId": "f9c5517f-eb22-4f8c-bdf1-aa4fc0527bcb"
      },
      "outputs": [
        {
          "name": "stdout",
          "output_type": "stream",
          "text": [
            "Archive:  /content/UCI HAR Dataset.zip\n",
            "   creating: UCI HAR Dataset/\n",
            "  inflating: UCI HAR Dataset/.DS_Store  \n",
            "   creating: __MACOSX/\n",
            "   creating: __MACOSX/UCI HAR Dataset/\n",
            "  inflating: __MACOSX/UCI HAR Dataset/._.DS_Store  \n",
            "  inflating: UCI HAR Dataset/activity_labels.txt  \n",
            "  inflating: __MACOSX/UCI HAR Dataset/._activity_labels.txt  \n",
            "  inflating: UCI HAR Dataset/features.txt  \n",
            "  inflating: __MACOSX/UCI HAR Dataset/._features.txt  \n",
            "  inflating: UCI HAR Dataset/features_info.txt  \n",
            "  inflating: __MACOSX/UCI HAR Dataset/._features_info.txt  \n",
            "  inflating: UCI HAR Dataset/README.txt  \n",
            "  inflating: __MACOSX/UCI HAR Dataset/._README.txt  \n",
            "   creating: UCI HAR Dataset/test/\n",
            "   creating: UCI HAR Dataset/test/Inertial Signals/\n",
            "  inflating: UCI HAR Dataset/test/Inertial Signals/body_acc_x_test.txt  \n",
            "   creating: __MACOSX/UCI HAR Dataset/test/\n",
            "   creating: __MACOSX/UCI HAR Dataset/test/Inertial Signals/\n",
            "  inflating: __MACOSX/UCI HAR Dataset/test/Inertial Signals/._body_acc_x_test.txt  \n",
            "  inflating: UCI HAR Dataset/test/Inertial Signals/body_acc_y_test.txt  \n",
            "  inflating: __MACOSX/UCI HAR Dataset/test/Inertial Signals/._body_acc_y_test.txt  \n",
            "  inflating: UCI HAR Dataset/test/Inertial Signals/body_acc_z_test.txt  \n",
            "  inflating: __MACOSX/UCI HAR Dataset/test/Inertial Signals/._body_acc_z_test.txt  \n",
            "  inflating: UCI HAR Dataset/test/Inertial Signals/body_gyro_x_test.txt  \n",
            "  inflating: __MACOSX/UCI HAR Dataset/test/Inertial Signals/._body_gyro_x_test.txt  \n",
            "  inflating: UCI HAR Dataset/test/Inertial Signals/body_gyro_y_test.txt  \n",
            "  inflating: __MACOSX/UCI HAR Dataset/test/Inertial Signals/._body_gyro_y_test.txt  \n",
            "  inflating: UCI HAR Dataset/test/Inertial Signals/body_gyro_z_test.txt  \n",
            "  inflating: __MACOSX/UCI HAR Dataset/test/Inertial Signals/._body_gyro_z_test.txt  \n",
            "  inflating: UCI HAR Dataset/test/Inertial Signals/total_acc_x_test.txt  \n",
            "  inflating: __MACOSX/UCI HAR Dataset/test/Inertial Signals/._total_acc_x_test.txt  \n",
            "  inflating: UCI HAR Dataset/test/Inertial Signals/total_acc_y_test.txt  \n",
            "  inflating: __MACOSX/UCI HAR Dataset/test/Inertial Signals/._total_acc_y_test.txt  \n",
            "  inflating: UCI HAR Dataset/test/Inertial Signals/total_acc_z_test.txt  \n",
            "  inflating: __MACOSX/UCI HAR Dataset/test/Inertial Signals/._total_acc_z_test.txt  \n",
            "  inflating: __MACOSX/UCI HAR Dataset/test/._Inertial Signals  \n",
            "  inflating: UCI HAR Dataset/test/subject_test.txt  \n",
            "  inflating: __MACOSX/UCI HAR Dataset/test/._subject_test.txt  \n",
            "  inflating: UCI HAR Dataset/test/X_test.txt  \n",
            "  inflating: __MACOSX/UCI HAR Dataset/test/._X_test.txt  \n",
            "  inflating: UCI HAR Dataset/test/y_test.txt  \n",
            "  inflating: __MACOSX/UCI HAR Dataset/test/._y_test.txt  \n",
            "  inflating: __MACOSX/UCI HAR Dataset/._test  \n",
            "   creating: UCI HAR Dataset/train/\n",
            "   creating: UCI HAR Dataset/train/Inertial Signals/\n",
            "  inflating: UCI HAR Dataset/train/Inertial Signals/body_acc_x_train.txt  \n",
            "   creating: __MACOSX/UCI HAR Dataset/train/\n",
            "   creating: __MACOSX/UCI HAR Dataset/train/Inertial Signals/\n",
            "  inflating: __MACOSX/UCI HAR Dataset/train/Inertial Signals/._body_acc_x_train.txt  \n",
            "  inflating: UCI HAR Dataset/train/Inertial Signals/body_acc_y_train.txt  \n",
            "  inflating: __MACOSX/UCI HAR Dataset/train/Inertial Signals/._body_acc_y_train.txt  \n",
            "  inflating: UCI HAR Dataset/train/Inertial Signals/body_acc_z_train.txt  \n",
            "  inflating: __MACOSX/UCI HAR Dataset/train/Inertial Signals/._body_acc_z_train.txt  \n",
            "  inflating: UCI HAR Dataset/train/Inertial Signals/body_gyro_x_train.txt  \n",
            "  inflating: __MACOSX/UCI HAR Dataset/train/Inertial Signals/._body_gyro_x_train.txt  \n",
            "  inflating: UCI HAR Dataset/train/Inertial Signals/body_gyro_y_train.txt  \n",
            "  inflating: __MACOSX/UCI HAR Dataset/train/Inertial Signals/._body_gyro_y_train.txt  \n",
            "  inflating: UCI HAR Dataset/train/Inertial Signals/body_gyro_z_train.txt  \n",
            "  inflating: __MACOSX/UCI HAR Dataset/train/Inertial Signals/._body_gyro_z_train.txt  \n",
            "  inflating: UCI HAR Dataset/train/Inertial Signals/total_acc_x_train.txt  \n",
            "  inflating: __MACOSX/UCI HAR Dataset/train/Inertial Signals/._total_acc_x_train.txt  \n",
            "  inflating: UCI HAR Dataset/train/Inertial Signals/total_acc_y_train.txt  \n",
            "  inflating: __MACOSX/UCI HAR Dataset/train/Inertial Signals/._total_acc_y_train.txt  \n",
            "  inflating: UCI HAR Dataset/train/Inertial Signals/total_acc_z_train.txt  \n",
            "  inflating: __MACOSX/UCI HAR Dataset/train/Inertial Signals/._total_acc_z_train.txt  \n",
            "  inflating: __MACOSX/UCI HAR Dataset/train/._Inertial Signals  \n",
            "  inflating: UCI HAR Dataset/train/subject_train.txt  \n",
            "  inflating: __MACOSX/UCI HAR Dataset/train/._subject_train.txt  \n",
            "  inflating: UCI HAR Dataset/train/X_train.txt  \n",
            "  inflating: __MACOSX/UCI HAR Dataset/train/._X_train.txt  \n",
            "  inflating: UCI HAR Dataset/train/y_train.txt  \n",
            "  inflating: __MACOSX/UCI HAR Dataset/train/._y_train.txt  \n",
            "  inflating: __MACOSX/UCI HAR Dataset/._train  \n",
            "  inflating: __MACOSX/._UCI HAR Dataset  \n"
          ]
        }
      ],
      "source": [
        "!unzip \"/content/UCI HAR Dataset.zip\""
      ]
    },
    {
      "cell_type": "code",
      "execution_count": null,
      "metadata": {
        "id": "mb4Q3z-zRAIs"
      },
      "outputs": [],
      "source": [
        "import numpy as np\n",
        "import pandas as pd\n",
        "import matplotlib.pyplot as plt"
      ]
    },
    {
      "cell_type": "code",
      "execution_count": null,
      "metadata": {
        "id": "cf8E1JInRAFF"
      },
      "outputs": [],
      "source": [
        "\n",
        "list_sensors_data=['body_acc_x_train','body_acc_y_train','body_acc_z_train','body_gyro_x_train','body_gyro_y_train',\n",
        "                   'body_gyro_z_train','total_acc_x_train','total_acc_y_train','total_acc_z_train']"
      ]
    },
    {
      "cell_type": "code",
      "execution_count": null,
      "metadata": {
        "id": "3lCskgbyRACq"
      },
      "outputs": [],
      "source": [
        "\n",
        "\n",
        "train_data=[]"
      ]
    },
    {
      "cell_type": "code",
      "execution_count": null,
      "metadata": {
        "id": "j9gPXO0hQ_82"
      },
      "outputs": [],
      "source": [
        "for fn in list_sensors_data:\n",
        "  train_data.append(np.array(pd.read_csv(\"UCI HAR Dataset/train/Inertial Signals/\"+fn+\".txt\",delim_whitespace=True,header=None)))"
      ]
    },
    {
      "cell_type": "code",
      "execution_count": null,
      "metadata": {
        "colab": {
          "base_uri": "https://localhost:8080/"
        },
        "id": "BSZsEVzHYRkz",
        "outputId": "3368a963-bd45-4a36-bef0-82da51fe2cd4"
      },
      "outputs": [
        {
          "data": {
            "text/plain": [
              "(9, 7352, 128)"
            ]
          },
          "execution_count": 7,
          "metadata": {},
          "output_type": "execute_result"
        }
      ],
      "source": [
        "np.array(train_data).shape"
      ]
    },
    {
      "cell_type": "code",
      "execution_count": null,
      "metadata": {
        "colab": {
          "base_uri": "https://localhost:8080/"
        },
        "id": "gaPGHC9iYRiV",
        "outputId": "78292774-d11e-43c6-c607-94674931ebfc"
      },
      "outputs": [
        {
          "data": {
            "text/plain": [
              "(7352, 128, 9)"
            ]
          },
          "execution_count": 8,
          "metadata": {},
          "output_type": "execute_result"
        }
      ],
      "source": [
        "np.transpose(train_data,(1,2,0)).shape"
      ]
    },
    {
      "cell_type": "code",
      "execution_count": null,
      "metadata": {
        "id": "xQUfZM4DYRfg"
      },
      "outputs": [],
      "source": [
        "train_data=np.transpose(train_data,(1,2,0))"
      ]
    },
    {
      "cell_type": "code",
      "execution_count": null,
      "metadata": {
        "id": "741YBCEoYYQG"
      },
      "outputs": [],
      "source": [
        "train_labels=pd.read_csv(\"UCI HAR Dataset/train/y_train.txt\",header=None)"
      ]
    },
    {
      "cell_type": "code",
      "execution_count": null,
      "metadata": {
        "id": "fTJ_01OhYYNs"
      },
      "outputs": [],
      "source": [
        "train_labels=train_labels-1"
      ]
    },
    {
      "cell_type": "code",
      "execution_count": null,
      "metadata": {
        "id": "o0MbWn3QYYLU"
      },
      "outputs": [],
      "source": [
        "train_labels=np.array(train_labels)"
      ]
    },
    {
      "cell_type": "code",
      "execution_count": null,
      "metadata": {
        "id": "PzR7aDECYYIt"
      },
      "outputs": [],
      "source": [
        "list_sensors_data=['body_acc_x_test','body_acc_y_test','body_acc_z_test','body_gyro_x_test','body_gyro_y_test',\n",
        "                   'body_gyro_z_test','total_acc_x_test','total_acc_y_test','total_acc_z_test']"
      ]
    },
    {
      "cell_type": "code",
      "execution_count": null,
      "metadata": {
        "id": "zxC8l5JTYYGY"
      },
      "outputs": [],
      "source": [
        "test_data=[]\n"
      ]
    },
    {
      "cell_type": "code",
      "execution_count": null,
      "metadata": {
        "id": "jOir32vRYlV5"
      },
      "outputs": [],
      "source": [
        "for fn in list_sensors_data:\n",
        "  test_data.append(np.array(pd.read_csv(\"UCI HAR Dataset/test/Inertial Signals/\"+fn+\".txt\",delim_whitespace=True,header=None)))"
      ]
    },
    {
      "cell_type": "code",
      "execution_count": null,
      "metadata": {
        "colab": {
          "base_uri": "https://localhost:8080/"
        },
        "id": "JpycR7zCYlTR",
        "outputId": "c1ce6686-3036-44ba-ecde-b9847b1acdc7"
      },
      "outputs": [
        {
          "data": {
            "text/plain": [
              "(9, 2947, 128)"
            ]
          },
          "execution_count": 17,
          "metadata": {},
          "output_type": "execute_result"
        }
      ],
      "source": [
        "np.array(test_data).shape\n",
        "     "
      ]
    },
    {
      "cell_type": "code",
      "execution_count": null,
      "metadata": {
        "colab": {
          "base_uri": "https://localhost:8080/"
        },
        "id": "Z8_i67wsYlQ6",
        "outputId": "dda763b9-d42b-4a4a-bbd9-8e9f7d69df4d"
      },
      "outputs": [
        {
          "data": {
            "text/plain": [
              "(2947, 128, 9)"
            ]
          },
          "execution_count": 18,
          "metadata": {},
          "output_type": "execute_result"
        }
      ],
      "source": [
        "np.transpose(test_data,(1,2,0)).shape"
      ]
    },
    {
      "cell_type": "code",
      "execution_count": null,
      "metadata": {
        "id": "EJtRgtZGYlOc"
      },
      "outputs": [],
      "source": [
        "test_data=np.transpose(test_data,(1,2,0))\n",
        "     "
      ]
    },
    {
      "cell_type": "code",
      "execution_count": null,
      "metadata": {
        "id": "doxry7zBYlL2"
      },
      "outputs": [],
      "source": [
        "test_labels=pd.read_csv(\"UCI HAR Dataset/test/y_test.txt\",header=None)"
      ]
    },
    {
      "cell_type": "code",
      "execution_count": null,
      "metadata": {
        "id": "72V_nBpfYlJR"
      },
      "outputs": [],
      "source": [
        "test_labels=test_labels-1"
      ]
    },
    {
      "cell_type": "code",
      "execution_count": null,
      "metadata": {
        "id": "Vg6ZYL0AYxqH"
      },
      "outputs": [],
      "source": [
        "test_labels=np.array(test_labels)"
      ]
    },
    {
      "cell_type": "code",
      "execution_count": null,
      "metadata": {
        "id": "Lx-QPpxYYxoH"
      },
      "outputs": [],
      "source": [
        "from keras.utils.np_utils import to_categorical"
      ]
    },
    {
      "cell_type": "code",
      "execution_count": null,
      "metadata": {
        "id": "OOYAsytXYxlw"
      },
      "outputs": [],
      "source": [
        "train_labels_cat=to_categorical(train_labels)"
      ]
    },
    {
      "cell_type": "code",
      "execution_count": null,
      "metadata": {
        "id": "G7-3nBWUY4L4"
      },
      "outputs": [],
      "source": [
        "test_labels_cat=to_categorical(test_labels)"
      ]
    },
    {
      "cell_type": "code",
      "execution_count": null,
      "metadata": {
        "colab": {
          "base_uri": "https://localhost:8080/"
        },
        "id": "uf7HIozpY4J9",
        "outputId": "2317ef63-146b-4072-8cbf-9fba48e026ff"
      },
      "outputs": [
        {
          "data": {
            "text/plain": [
              "(7352, 6)"
            ]
          },
          "execution_count": 26,
          "metadata": {},
          "output_type": "execute_result"
        }
      ],
      "source": [
        "train_labels_cat.shape"
      ]
    },
    {
      "cell_type": "code",
      "execution_count": null,
      "metadata": {
        "id": "r2yUBX1dY4Hb"
      },
      "outputs": [],
      "source": [
        "from keras.models import Sequential\n",
        "from keras.layers import LSTM,Dense,Dropout"
      ]
    },
    {
      "cell_type": "code",
      "execution_count": null,
      "metadata": {
        "id": "Ym7EGpkmY4Ey"
      },
      "outputs": [],
      "source": [
        "model=Sequential()\n",
        "model.add(LSTM(128,return_sequences=True,input_shape=(128,9)))\n",
        "model.add(Dropout(0.2))\n",
        "model.add(LSTM(64))\n",
        "model.add(Dropout(0.2))\n",
        "model.add(Dense(6,activation='softmax'))"
      ]
    },
    {
      "cell_type": "code",
      "execution_count": null,
      "metadata": {
        "colab": {
          "base_uri": "https://localhost:8080/"
        },
        "id": "PPrP0l_gZBcC",
        "outputId": "817d6d0b-5522-4718-a66e-54b2c3cbcd1c"
      },
      "outputs": [
        {
          "name": "stdout",
          "output_type": "stream",
          "text": [
            "Model: \"sequential\"\n",
            "_________________________________________________________________\n",
            " Layer (type)                Output Shape              Param #   \n",
            "=================================================================\n",
            " lstm (LSTM)                 (None, 128, 128)          70656     \n",
            "                                                                 \n",
            " dropout (Dropout)           (None, 128, 128)          0         \n",
            "                                                                 \n",
            " lstm_1 (LSTM)               (None, 64)                49408     \n",
            "                                                                 \n",
            " dropout_1 (Dropout)         (None, 64)                0         \n",
            "                                                                 \n",
            " dense (Dense)               (None, 6)                 390       \n",
            "                                                                 \n",
            "=================================================================\n",
            "Total params: 120,454\n",
            "Trainable params: 120,454\n",
            "Non-trainable params: 0\n",
            "_________________________________________________________________\n"
          ]
        }
      ],
      "source": [
        "model.summary()"
      ]
    },
    {
      "cell_type": "code",
      "execution_count": null,
      "metadata": {
        "id": "TeEeZL4cZEy0"
      },
      "outputs": [],
      "source": [
        "model.compile(loss='categorical_crossentropy',metrics=['accuracy'])"
      ]
    },
    {
      "cell_type": "code",
      "execution_count": null,
      "metadata": {
        "colab": {
          "base_uri": "https://localhost:8080/"
        },
        "id": "qCwTELNhZBZm",
        "outputId": "82f5c97d-14f1-4140-9a9b-4f7128accca7"
      },
      "outputs": [
        {
          "name": "stdout",
          "output_type": "stream",
          "text": [
            "Epoch 1/100\n",
            "219/219 [==============================] - 46s 193ms/step - loss: 0.8810 - accuracy: 0.6269 - val_loss: 0.6217 - val_accuracy: 0.7935\n",
            "Epoch 2/100\n",
            "219/219 [==============================] - 42s 190ms/step - loss: 0.4101 - accuracy: 0.8551 - val_loss: 0.2848 - val_accuracy: 0.8913\n",
            "Epoch 3/100\n",
            "219/219 [==============================] - 41s 186ms/step - loss: 0.2210 - accuracy: 0.9233 - val_loss: 0.1612 - val_accuracy: 0.9484\n",
            "Epoch 4/100\n",
            "219/219 [==============================] - 41s 186ms/step - loss: 0.1774 - accuracy: 0.9347 - val_loss: 0.1678 - val_accuracy: 0.9266\n",
            "Epoch 5/100\n",
            "219/219 [==============================] - 41s 188ms/step - loss: 0.1579 - accuracy: 0.9426 - val_loss: 0.1587 - val_accuracy: 0.9130\n",
            "Epoch 6/100\n",
            "219/219 [==============================] - 42s 192ms/step - loss: 0.1478 - accuracy: 0.9469 - val_loss: 0.1983 - val_accuracy: 0.9103\n",
            "Epoch 7/100\n",
            "219/219 [==============================] - 43s 197ms/step - loss: 0.1443 - accuracy: 0.9473 - val_loss: 0.1323 - val_accuracy: 0.9130\n",
            "Epoch 8/100\n",
            "219/219 [==============================] - 40s 185ms/step - loss: 0.1307 - accuracy: 0.9483 - val_loss: 0.2644 - val_accuracy: 0.9321\n",
            "Epoch 9/100\n",
            "219/219 [==============================] - 41s 188ms/step - loss: 0.1410 - accuracy: 0.9515 - val_loss: 0.1408 - val_accuracy: 0.9484\n",
            "Epoch 10/100\n",
            "219/219 [==============================] - 42s 190ms/step - loss: 0.1220 - accuracy: 0.9522 - val_loss: 0.1138 - val_accuracy: 0.9565\n",
            "Epoch 11/100\n",
            "219/219 [==============================] - 42s 193ms/step - loss: 0.1345 - accuracy: 0.9513 - val_loss: 0.1395 - val_accuracy: 0.9538\n",
            "Epoch 12/100\n",
            "219/219 [==============================] - 42s 191ms/step - loss: 0.1264 - accuracy: 0.9520 - val_loss: 0.1275 - val_accuracy: 0.9158\n",
            "Epoch 13/100\n",
            "219/219 [==============================] - 41s 189ms/step - loss: 0.1223 - accuracy: 0.9532 - val_loss: 0.1564 - val_accuracy: 0.9185\n",
            "Epoch 14/100\n",
            "219/219 [==============================] - 43s 197ms/step - loss: 0.1188 - accuracy: 0.9549 - val_loss: 0.1267 - val_accuracy: 0.9457\n",
            "Epoch 15/100\n",
            "219/219 [==============================] - 41s 187ms/step - loss: 0.1202 - accuracy: 0.9526 - val_loss: 0.1264 - val_accuracy: 0.9321\n",
            "Epoch 16/100\n",
            "219/219 [==============================] - 41s 188ms/step - loss: 0.1251 - accuracy: 0.9522 - val_loss: 0.1207 - val_accuracy: 0.9511\n",
            "Epoch 17/100\n",
            "219/219 [==============================] - 42s 194ms/step - loss: 0.1202 - accuracy: 0.9552 - val_loss: 0.1266 - val_accuracy: 0.9511\n",
            "Epoch 18/100\n",
            "219/219 [==============================] - 42s 191ms/step - loss: 0.1192 - accuracy: 0.9527 - val_loss: 0.1517 - val_accuracy: 0.9239\n",
            "Epoch 19/100\n",
            "219/219 [==============================] - 41s 189ms/step - loss: 0.1144 - accuracy: 0.9569 - val_loss: 0.1072 - val_accuracy: 0.9538\n",
            "Epoch 20/100\n",
            "219/219 [==============================] - 41s 188ms/step - loss: 0.1224 - accuracy: 0.9555 - val_loss: 0.1145 - val_accuracy: 0.9239\n",
            "Epoch 21/100\n",
            "219/219 [==============================] - 44s 199ms/step - loss: 0.1201 - accuracy: 0.9530 - val_loss: 0.1395 - val_accuracy: 0.9212\n",
            "Epoch 22/100\n",
            "219/219 [==============================] - 42s 191ms/step - loss: 0.1116 - accuracy: 0.9558 - val_loss: 0.0925 - val_accuracy: 0.9402\n",
            "Epoch 23/100\n",
            "219/219 [==============================] - 42s 191ms/step - loss: 0.1198 - accuracy: 0.9538 - val_loss: 0.0957 - val_accuracy: 0.9239\n",
            "Epoch 24/100\n",
            "219/219 [==============================] - 41s 188ms/step - loss: 0.1124 - accuracy: 0.9559 - val_loss: 0.1076 - val_accuracy: 0.9647\n",
            "Epoch 25/100\n",
            "219/219 [==============================] - 41s 187ms/step - loss: 0.1090 - accuracy: 0.9565 - val_loss: 0.1025 - val_accuracy: 0.9565\n",
            "Epoch 26/100\n",
            "219/219 [==============================] - 41s 188ms/step - loss: 0.1119 - accuracy: 0.9563 - val_loss: 0.0790 - val_accuracy: 0.9592\n",
            "Epoch 27/100\n",
            "219/219 [==============================] - 42s 193ms/step - loss: 0.1186 - accuracy: 0.9532 - val_loss: 0.1165 - val_accuracy: 0.9212\n",
            "Epoch 28/100\n",
            "219/219 [==============================] - 44s 199ms/step - loss: 0.1092 - accuracy: 0.9542 - val_loss: 0.1334 - val_accuracy: 0.9620\n",
            "Epoch 29/100\n",
            "219/219 [==============================] - 43s 195ms/step - loss: 0.1064 - accuracy: 0.9586 - val_loss: 0.1082 - val_accuracy: 0.9647\n",
            "Epoch 30/100\n",
            "219/219 [==============================] - 42s 190ms/step - loss: 0.1067 - accuracy: 0.9562 - val_loss: 0.1093 - val_accuracy: 0.9212\n",
            "Epoch 31/100\n",
            "219/219 [==============================] - 41s 188ms/step - loss: 0.1123 - accuracy: 0.9562 - val_loss: 0.0930 - val_accuracy: 0.9592\n",
            "Epoch 32/100\n",
            "219/219 [==============================] - 42s 191ms/step - loss: 0.1062 - accuracy: 0.9576 - val_loss: 0.0964 - val_accuracy: 0.9592\n",
            "Epoch 33/100\n",
            "219/219 [==============================] - 42s 191ms/step - loss: 0.1073 - accuracy: 0.9575 - val_loss: 0.0892 - val_accuracy: 0.9348\n",
            "Epoch 34/100\n",
            "219/219 [==============================] - 42s 192ms/step - loss: 0.1178 - accuracy: 0.9553 - val_loss: 0.1118 - val_accuracy: 0.9592\n",
            "Epoch 35/100\n",
            "219/219 [==============================] - 45s 204ms/step - loss: 0.1040 - accuracy: 0.9586 - val_loss: 0.0799 - val_accuracy: 0.9647\n",
            "Epoch 36/100\n",
            "219/219 [==============================] - 43s 194ms/step - loss: 0.1507 - accuracy: 0.9487 - val_loss: 0.0720 - val_accuracy: 0.9620\n",
            "Epoch 37/100\n",
            "219/219 [==============================] - 42s 192ms/step - loss: 0.1089 - accuracy: 0.9580 - val_loss: 0.0769 - val_accuracy: 0.9620\n",
            "Epoch 38/100\n",
            "219/219 [==============================] - 42s 194ms/step - loss: 0.1091 - accuracy: 0.9569 - val_loss: 0.0835 - val_accuracy: 0.9266\n",
            "Epoch 39/100\n",
            "219/219 [==============================] - 42s 192ms/step - loss: 0.0984 - accuracy: 0.9592 - val_loss: 0.0628 - val_accuracy: 0.9674\n",
            "Epoch 40/100\n",
            "219/219 [==============================] - 43s 194ms/step - loss: 0.1089 - accuracy: 0.9582 - val_loss: 0.1917 - val_accuracy: 0.9592\n",
            "Epoch 41/100\n",
            "219/219 [==============================] - 42s 192ms/step - loss: 0.1059 - accuracy: 0.9586 - val_loss: 0.0649 - val_accuracy: 0.9674\n",
            "Epoch 42/100\n",
            "219/219 [==============================] - 43s 195ms/step - loss: 0.0957 - accuracy: 0.9598 - val_loss: 0.0760 - val_accuracy: 0.9620\n",
            "Epoch 43/100\n",
            "219/219 [==============================] - 41s 189ms/step - loss: 0.1173 - accuracy: 0.9558 - val_loss: 0.0714 - val_accuracy: 0.9755\n",
            "Epoch 44/100\n",
            "219/219 [==============================] - 41s 189ms/step - loss: 0.0948 - accuracy: 0.9606 - val_loss: 0.0609 - val_accuracy: 0.9755\n",
            "Epoch 45/100\n",
            "219/219 [==============================] - 42s 194ms/step - loss: 0.1069 - accuracy: 0.9589 - val_loss: 0.0724 - val_accuracy: 0.9755\n",
            "Epoch 46/100\n",
            "219/219 [==============================] - 43s 195ms/step - loss: 0.1018 - accuracy: 0.9593 - val_loss: 0.1260 - val_accuracy: 0.9647\n",
            "Epoch 47/100\n",
            "219/219 [==============================] - 42s 191ms/step - loss: 0.1008 - accuracy: 0.9590 - val_loss: 0.0922 - val_accuracy: 0.9674\n",
            "Epoch 48/100\n",
            "219/219 [==============================] - 42s 191ms/step - loss: 0.0996 - accuracy: 0.9603 - val_loss: 0.0755 - val_accuracy: 0.9511\n",
            "Epoch 49/100\n",
            "219/219 [==============================] - 44s 200ms/step - loss: 0.1035 - accuracy: 0.9608 - val_loss: 0.0445 - val_accuracy: 0.9810\n",
            "Epoch 50/100\n",
            "219/219 [==============================] - 42s 193ms/step - loss: 0.0882 - accuracy: 0.9632 - val_loss: 0.0454 - val_accuracy: 0.9837\n",
            "Epoch 51/100\n",
            "219/219 [==============================] - 42s 190ms/step - loss: 0.0955 - accuracy: 0.9586 - val_loss: 0.0940 - val_accuracy: 0.9375\n",
            "Epoch 52/100\n",
            "219/219 [==============================] - 41s 188ms/step - loss: 0.0975 - accuracy: 0.9638 - val_loss: 0.1364 - val_accuracy: 0.9674\n",
            "Epoch 53/100\n",
            "219/219 [==============================] - 42s 190ms/step - loss: 0.0886 - accuracy: 0.9651 - val_loss: 0.0347 - val_accuracy: 0.9891\n",
            "Epoch 54/100\n",
            "219/219 [==============================] - 41s 189ms/step - loss: 0.0826 - accuracy: 0.9678 - val_loss: 0.0553 - val_accuracy: 0.9783\n",
            "Epoch 55/100\n",
            "219/219 [==============================] - 45s 204ms/step - loss: 0.0898 - accuracy: 0.9653 - val_loss: 0.0900 - val_accuracy: 0.9837\n",
            "Epoch 56/100\n",
            "219/219 [==============================] - 42s 190ms/step - loss: 0.0898 - accuracy: 0.9658 - val_loss: 0.0616 - val_accuracy: 0.9810\n",
            "Epoch 57/100\n",
            "219/219 [==============================] - 42s 191ms/step - loss: 0.0963 - accuracy: 0.9638 - val_loss: 0.1257 - val_accuracy: 0.9538\n",
            "Epoch 58/100\n",
            "219/219 [==============================] - 41s 189ms/step - loss: 0.0901 - accuracy: 0.9629 - val_loss: 0.0652 - val_accuracy: 0.9783\n",
            "Epoch 59/100\n",
            "219/219 [==============================] - 42s 190ms/step - loss: 0.0832 - accuracy: 0.9672 - val_loss: 0.0747 - val_accuracy: 0.9864\n",
            "Epoch 60/100\n",
            "219/219 [==============================] - 41s 188ms/step - loss: 0.0859 - accuracy: 0.9671 - val_loss: 0.0236 - val_accuracy: 0.9946\n",
            "Epoch 61/100\n",
            "219/219 [==============================] - 41s 189ms/step - loss: 0.0842 - accuracy: 0.9694 - val_loss: 0.0921 - val_accuracy: 0.9755\n",
            "Epoch 62/100\n",
            "219/219 [==============================] - 43s 196ms/step - loss: 0.0754 - accuracy: 0.9712 - val_loss: 0.0273 - val_accuracy: 0.9918\n",
            "Epoch 63/100\n",
            "219/219 [==============================] - 42s 194ms/step - loss: 0.0889 - accuracy: 0.9694 - val_loss: 0.0305 - val_accuracy: 0.9891\n",
            "Epoch 64/100\n",
            "219/219 [==============================] - 42s 190ms/step - loss: 0.0768 - accuracy: 0.9691 - val_loss: 0.0425 - val_accuracy: 0.9918\n",
            "Epoch 65/100\n",
            "219/219 [==============================] - 41s 187ms/step - loss: 0.0703 - accuracy: 0.9721 - val_loss: 0.0541 - val_accuracy: 0.9837\n",
            "Epoch 66/100\n",
            "219/219 [==============================] - 41s 188ms/step - loss: 0.0781 - accuracy: 0.9688 - val_loss: 0.0530 - val_accuracy: 0.9810\n",
            "Epoch 67/100\n",
            "219/219 [==============================] - 44s 203ms/step - loss: 0.0809 - accuracy: 0.9701 - val_loss: 0.0592 - val_accuracy: 0.9810\n",
            "Epoch 68/100\n",
            "219/219 [==============================] - 42s 192ms/step - loss: 0.0777 - accuracy: 0.9708 - val_loss: 0.0966 - val_accuracy: 0.9891\n",
            "Epoch 69/100\n",
            "219/219 [==============================] - 43s 198ms/step - loss: 0.0791 - accuracy: 0.9688 - val_loss: 0.0819 - val_accuracy: 0.9592\n",
            "Epoch 70/100\n",
            "219/219 [==============================] - 43s 198ms/step - loss: 0.0776 - accuracy: 0.9694 - val_loss: 0.1583 - val_accuracy: 0.9674\n",
            "Epoch 71/100\n",
            "219/219 [==============================] - 42s 192ms/step - loss: 0.0805 - accuracy: 0.9716 - val_loss: 0.0458 - val_accuracy: 0.9946\n",
            "Epoch 72/100\n",
            "219/219 [==============================] - 43s 195ms/step - loss: 0.0864 - accuracy: 0.9686 - val_loss: 0.0305 - val_accuracy: 0.9946\n",
            "Epoch 73/100\n",
            "219/219 [==============================] - 42s 191ms/step - loss: 0.0704 - accuracy: 0.9724 - val_loss: 0.0486 - val_accuracy: 0.9918\n",
            "Epoch 74/100\n",
            "219/219 [==============================] - 42s 190ms/step - loss: 0.0700 - accuracy: 0.9739 - val_loss: 0.0385 - val_accuracy: 0.9891\n",
            "Epoch 75/100\n",
            "219/219 [==============================] - 42s 190ms/step - loss: 0.0628 - accuracy: 0.9735 - val_loss: 0.0865 - val_accuracy: 0.9891\n",
            "Epoch 76/100\n",
            "219/219 [==============================] - 43s 197ms/step - loss: 0.0846 - accuracy: 0.9702 - val_loss: 0.0457 - val_accuracy: 0.9891\n",
            "Epoch 77/100\n",
            "219/219 [==============================] - 42s 190ms/step - loss: 0.0587 - accuracy: 0.9761 - val_loss: 0.0522 - val_accuracy: 0.9701\n",
            "Epoch 78/100\n",
            "219/219 [==============================] - 44s 202ms/step - loss: 0.0610 - accuracy: 0.9749 - val_loss: 0.0370 - val_accuracy: 0.9946\n",
            "Epoch 79/100\n",
            "219/219 [==============================] - 43s 196ms/step - loss: 0.0583 - accuracy: 0.9758 - val_loss: 0.0518 - val_accuracy: 0.9755\n",
            "Epoch 80/100\n",
            "219/219 [==============================] - 43s 195ms/step - loss: 0.0694 - accuracy: 0.9754 - val_loss: 0.0416 - val_accuracy: 0.9864\n",
            "Epoch 81/100\n",
            "219/219 [==============================] - 42s 190ms/step - loss: 0.0629 - accuracy: 0.9765 - val_loss: 0.0458 - val_accuracy: 0.9783\n",
            "Epoch 82/100\n",
            "219/219 [==============================] - 41s 189ms/step - loss: 0.0641 - accuracy: 0.9767 - val_loss: 0.0361 - val_accuracy: 0.9891\n",
            "Epoch 83/100\n",
            "219/219 [==============================] - 44s 200ms/step - loss: 0.0668 - accuracy: 0.9744 - val_loss: 0.0848 - val_accuracy: 0.9647\n",
            "Epoch 84/100\n",
            "219/219 [==============================] - 42s 192ms/step - loss: 0.0735 - accuracy: 0.9748 - val_loss: 0.1767 - val_accuracy: 0.9565\n",
            "Epoch 85/100\n",
            "219/219 [==============================] - 42s 191ms/step - loss: 0.0713 - accuracy: 0.9754 - val_loss: 0.0325 - val_accuracy: 0.9918\n",
            "Epoch 86/100\n",
            "219/219 [==============================] - 42s 193ms/step - loss: 0.0950 - accuracy: 0.9678 - val_loss: 0.0735 - val_accuracy: 0.9837\n",
            "Epoch 87/100\n",
            "219/219 [==============================] - 42s 190ms/step - loss: 0.0725 - accuracy: 0.9742 - val_loss: 0.0395 - val_accuracy: 0.9918\n",
            "Epoch 88/100\n",
            "219/219 [==============================] - 41s 188ms/step - loss: 0.0736 - accuracy: 0.9704 - val_loss: 0.0477 - val_accuracy: 0.9810\n",
            "Epoch 89/100\n",
            "219/219 [==============================] - 43s 194ms/step - loss: 0.0765 - accuracy: 0.9732 - val_loss: 0.0375 - val_accuracy: 0.9891\n",
            "Epoch 90/100\n",
            "219/219 [==============================] - 41s 188ms/step - loss: 0.0664 - accuracy: 0.9762 - val_loss: 0.0435 - val_accuracy: 0.9891\n",
            "Epoch 91/100\n",
            "219/219 [==============================] - 41s 188ms/step - loss: 0.0665 - accuracy: 0.9798 - val_loss: 0.0165 - val_accuracy: 0.9946\n",
            "Epoch 92/100\n",
            "219/219 [==============================] - 41s 187ms/step - loss: 0.0667 - accuracy: 0.9761 - val_loss: 0.0354 - val_accuracy: 0.9946\n",
            "Epoch 93/100\n",
            "219/219 [==============================] - 42s 192ms/step - loss: 0.0651 - accuracy: 0.9774 - val_loss: 0.0240 - val_accuracy: 0.9946\n",
            "Epoch 94/100\n",
            "219/219 [==============================] - 41s 188ms/step - loss: 0.0626 - accuracy: 0.9768 - val_loss: 0.0752 - val_accuracy: 0.9783\n",
            "Epoch 95/100\n",
            "219/219 [==============================] - 41s 188ms/step - loss: 0.0735 - accuracy: 0.9747 - val_loss: 0.1676 - val_accuracy: 0.9321\n",
            "Epoch 96/100\n",
            "219/219 [==============================] - 43s 197ms/step - loss: 0.0995 - accuracy: 0.9593 - val_loss: 0.1257 - val_accuracy: 0.9674\n",
            "Epoch 97/100\n",
            "219/219 [==============================] - 41s 188ms/step - loss: 0.1087 - accuracy: 0.9559 - val_loss: 0.0546 - val_accuracy: 0.9918\n",
            "Epoch 98/100\n",
            "219/219 [==============================] - 41s 187ms/step - loss: 0.0911 - accuracy: 0.9622 - val_loss: 0.0535 - val_accuracy: 0.9647\n",
            "Epoch 99/100\n",
            "219/219 [==============================] - 41s 187ms/step - loss: 0.0813 - accuracy: 0.9729 - val_loss: 0.0553 - val_accuracy: 0.9674\n",
            "Epoch 100/100\n",
            "219/219 [==============================] - 43s 197ms/step - loss: 0.0649 - accuracy: 0.9755 - val_loss: 0.0430 - val_accuracy: 0.9810\n"
          ]
        },
        {
          "data": {
            "text/plain": [
              "<keras.callbacks.History at 0x7f05b42fb610>"
            ]
          },
          "execution_count": 31,
          "metadata": {},
          "output_type": "execute_result"
        }
      ],
      "source": [
        "model.fit(train_data,train_labels_cat,epochs=100,validation_split=0.05)"
      ]
    },
    {
      "cell_type": "code",
      "execution_count": null,
      "metadata": {
        "colab": {
          "base_uri": "https://localhost:8080/"
        },
        "id": "TELGk9vnHvJj",
        "outputId": "3e2e000e-705f-4d83-e142-43d309cb4256"
      },
      "outputs": [
        {
          "name": "stdout",
          "output_type": "stream",
          "text": [
            "93/93 [==============================] - 7s 65ms/step\n"
          ]
        }
      ],
      "source": [
        "pred_label_cat=model.predict(test_data)"
      ]
    },
    {
      "cell_type": "code",
      "execution_count": null,
      "metadata": {
        "id": "j9JGGI82HvHV"
      },
      "outputs": [],
      "source": [
        "pred_label=np.argmax(pred_label_cat,axis=1)"
      ]
    },
    {
      "cell_type": "code",
      "execution_count": null,
      "metadata": {
        "colab": {
          "base_uri": "https://localhost:8080/"
        },
        "id": "pb5dmR_sHvEm",
        "outputId": "90a4f7de-e69a-4315-a6d5-eb5120afa509"
      },
      "outputs": [
        {
          "data": {
            "text/plain": [
              "array([4, 4, 4, ..., 1, 1, 1])"
            ]
          },
          "execution_count": 34,
          "metadata": {},
          "output_type": "execute_result"
        }
      ],
      "source": [
        "pred_label"
      ]
    },
    {
      "cell_type": "code",
      "execution_count": null,
      "metadata": {
        "id": "owguItMMHvCI"
      },
      "outputs": [],
      "source": [
        "import sklearn.metrics as m"
      ]
    },
    {
      "cell_type": "code",
      "execution_count": null,
      "metadata": {
        "colab": {
          "base_uri": "https://localhost:8080/"
        },
        "id": "YBta4kxkHu_j",
        "outputId": "4a27f862-725e-4033-ed2b-12829d4dca2f"
      },
      "outputs": [
        {
          "data": {
            "text/plain": [
              "0.9144893111638955"
            ]
          },
          "execution_count": 36,
          "metadata": {},
          "output_type": "execute_result"
        }
      ],
      "source": [
        "m.accuracy_score(test_labels,pred_label)"
      ]
    },
    {
      "cell_type": "code",
      "execution_count": null,
      "metadata": {
        "colab": {
          "base_uri": "https://localhost:8080/"
        },
        "id": "S6BgKPYPukjY",
        "outputId": "40d4bd09-a5ee-40a1-a3cd-2f7afcc42f5f"
      },
      "outputs": [
        {
          "name": "stdout",
          "output_type": "stream",
          "text": [
            "              precision    recall  f1-score   support\n",
            "\n",
            "           0       0.99      0.92      0.95       496\n",
            "           1       0.96      0.94      0.95       471\n",
            "           2       0.88      0.97      0.92       420\n",
            "           3       0.90      0.76      0.82       491\n",
            "           4       0.80      0.93      0.86       532\n",
            "           5       0.99      0.98      0.98       537\n",
            "\n",
            "    accuracy                           0.91      2947\n",
            "   macro avg       0.92      0.91      0.91      2947\n",
            "weighted avg       0.92      0.91      0.91      2947\n",
            "\n"
          ]
        }
      ],
      "source": [
        "print(m.classification_report(test_labels,pred_label))"
      ]
    },
    {
      "cell_type": "code",
      "execution_count": null,
      "metadata": {
        "colab": {
          "base_uri": "https://localhost:8080/"
        },
        "id": "B8u0y-vgukg3",
        "outputId": "79241655-b474-4ea2-a239-6718389c3fa3"
      },
      "outputs": [
        {
          "name": "stdout",
          "output_type": "stream",
          "text": [
            "[[454   6  35   1   0   0]\n",
            " [  2 443  23   3   0   0]\n",
            " [  2  10 408   0   0   0]\n",
            " [  0   2   0 372 113   4]\n",
            " [  0   0   0  38 494   0]\n",
            " [  0   0   0   0  13 524]]\n"
          ]
        }
      ],
      "source": [
        "print(m.confusion_matrix(test_labels,pred_label))"
      ]
    },
    {
      "cell_type": "code",
      "execution_count": null,
      "metadata": {
        "id": "7C-2phE-5aMo"
      },
      "outputs": [],
      "source": [
        "model.save('Lstm.h5')"
      ]
    },
    {
      "cell_type": "code",
      "execution_count": null,
      "metadata": {
        "id": "VnAS93W_ME0T"
      },
      "outputs": [],
      "source": [
        "train_df = pd.read_csv(\"UCI HAR Dataset/train/X_train.txt\", delim_whitespace = True,names=list(range(0,561)))\n",
        "\n",
        "train_df['Subject'] = pd.read_csv(\"UCI HAR Dataset/train/subject_train.txt\", header = None, squeeze = True)\n",
        "\n",
        "train_df[\"activity\"] = pd.read_csv(\"UCI HAR Dataset/train/y_train.txt\", header = None, squeeze = True)"
      ]
    },
    {
      "cell_type": "code",
      "execution_count": null,
      "metadata": {
        "id": "y6KZzJClMExu"
      },
      "outputs": [],
      "source": [
        "features = list()\n",
        "with open(\"UCI HAR Dataset/features.txt\") as f:\n",
        "    for line in f:\n",
        "        features.append(line.split()[1])"
      ]
    },
    {
      "cell_type": "code",
      "execution_count": null,
      "metadata": {
        "colab": {
          "base_uri": "https://localhost:8080/"
        },
        "id": "U8U5hbiGMnW9",
        "outputId": "d6e91e53-fd33-4d04-aef9-20c83d649875"
      },
      "outputs": [
        {
          "data": {
            "text/plain": [
              "['tBodyAcc-mean()-X',\n",
              " 'tBodyAcc-mean()-Y',\n",
              " 'tBodyAcc-mean()-Z',\n",
              " 'tBodyAcc-std()-X',\n",
              " 'tBodyAcc-std()-Y',\n",
              " 'tBodyAcc-std()-Z',\n",
              " 'tBodyAcc-mad()-X',\n",
              " 'tBodyAcc-mad()-Y',\n",
              " 'tBodyAcc-mad()-Z',\n",
              " 'tBodyAcc-max()-X',\n",
              " 'tBodyAcc-max()-Y',\n",
              " 'tBodyAcc-max()-Z',\n",
              " 'tBodyAcc-min()-X',\n",
              " 'tBodyAcc-min()-Y',\n",
              " 'tBodyAcc-min()-Z',\n",
              " 'tBodyAcc-sma()',\n",
              " 'tBodyAcc-energy()-X',\n",
              " 'tBodyAcc-energy()-Y',\n",
              " 'tBodyAcc-energy()-Z',\n",
              " 'tBodyAcc-iqr()-X',\n",
              " 'tBodyAcc-iqr()-Y',\n",
              " 'tBodyAcc-iqr()-Z',\n",
              " 'tBodyAcc-entropy()-X',\n",
              " 'tBodyAcc-entropy()-Y',\n",
              " 'tBodyAcc-entropy()-Z',\n",
              " 'tBodyAcc-arCoeff()-X,1',\n",
              " 'tBodyAcc-arCoeff()-X,2',\n",
              " 'tBodyAcc-arCoeff()-X,3',\n",
              " 'tBodyAcc-arCoeff()-X,4',\n",
              " 'tBodyAcc-arCoeff()-Y,1',\n",
              " 'tBodyAcc-arCoeff()-Y,2',\n",
              " 'tBodyAcc-arCoeff()-Y,3',\n",
              " 'tBodyAcc-arCoeff()-Y,4',\n",
              " 'tBodyAcc-arCoeff()-Z,1',\n",
              " 'tBodyAcc-arCoeff()-Z,2',\n",
              " 'tBodyAcc-arCoeff()-Z,3',\n",
              " 'tBodyAcc-arCoeff()-Z,4',\n",
              " 'tBodyAcc-correlation()-X,Y',\n",
              " 'tBodyAcc-correlation()-X,Z',\n",
              " 'tBodyAcc-correlation()-Y,Z',\n",
              " 'tGravityAcc-mean()-X',\n",
              " 'tGravityAcc-mean()-Y',\n",
              " 'tGravityAcc-mean()-Z',\n",
              " 'tGravityAcc-std()-X',\n",
              " 'tGravityAcc-std()-Y',\n",
              " 'tGravityAcc-std()-Z',\n",
              " 'tGravityAcc-mad()-X',\n",
              " 'tGravityAcc-mad()-Y',\n",
              " 'tGravityAcc-mad()-Z',\n",
              " 'tGravityAcc-max()-X',\n",
              " 'tGravityAcc-max()-Y',\n",
              " 'tGravityAcc-max()-Z',\n",
              " 'tGravityAcc-min()-X',\n",
              " 'tGravityAcc-min()-Y',\n",
              " 'tGravityAcc-min()-Z',\n",
              " 'tGravityAcc-sma()',\n",
              " 'tGravityAcc-energy()-X',\n",
              " 'tGravityAcc-energy()-Y',\n",
              " 'tGravityAcc-energy()-Z',\n",
              " 'tGravityAcc-iqr()-X',\n",
              " 'tGravityAcc-iqr()-Y',\n",
              " 'tGravityAcc-iqr()-Z',\n",
              " 'tGravityAcc-entropy()-X',\n",
              " 'tGravityAcc-entropy()-Y',\n",
              " 'tGravityAcc-entropy()-Z',\n",
              " 'tGravityAcc-arCoeff()-X,1',\n",
              " 'tGravityAcc-arCoeff()-X,2',\n",
              " 'tGravityAcc-arCoeff()-X,3',\n",
              " 'tGravityAcc-arCoeff()-X,4',\n",
              " 'tGravityAcc-arCoeff()-Y,1',\n",
              " 'tGravityAcc-arCoeff()-Y,2',\n",
              " 'tGravityAcc-arCoeff()-Y,3',\n",
              " 'tGravityAcc-arCoeff()-Y,4',\n",
              " 'tGravityAcc-arCoeff()-Z,1',\n",
              " 'tGravityAcc-arCoeff()-Z,2',\n",
              " 'tGravityAcc-arCoeff()-Z,3',\n",
              " 'tGravityAcc-arCoeff()-Z,4',\n",
              " 'tGravityAcc-correlation()-X,Y',\n",
              " 'tGravityAcc-correlation()-X,Z',\n",
              " 'tGravityAcc-correlation()-Y,Z',\n",
              " 'tBodyAccJerk-mean()-X',\n",
              " 'tBodyAccJerk-mean()-Y',\n",
              " 'tBodyAccJerk-mean()-Z',\n",
              " 'tBodyAccJerk-std()-X',\n",
              " 'tBodyAccJerk-std()-Y',\n",
              " 'tBodyAccJerk-std()-Z',\n",
              " 'tBodyAccJerk-mad()-X',\n",
              " 'tBodyAccJerk-mad()-Y',\n",
              " 'tBodyAccJerk-mad()-Z',\n",
              " 'tBodyAccJerk-max()-X',\n",
              " 'tBodyAccJerk-max()-Y',\n",
              " 'tBodyAccJerk-max()-Z',\n",
              " 'tBodyAccJerk-min()-X',\n",
              " 'tBodyAccJerk-min()-Y',\n",
              " 'tBodyAccJerk-min()-Z',\n",
              " 'tBodyAccJerk-sma()',\n",
              " 'tBodyAccJerk-energy()-X',\n",
              " 'tBodyAccJerk-energy()-Y',\n",
              " 'tBodyAccJerk-energy()-Z',\n",
              " 'tBodyAccJerk-iqr()-X',\n",
              " 'tBodyAccJerk-iqr()-Y',\n",
              " 'tBodyAccJerk-iqr()-Z',\n",
              " 'tBodyAccJerk-entropy()-X',\n",
              " 'tBodyAccJerk-entropy()-Y',\n",
              " 'tBodyAccJerk-entropy()-Z',\n",
              " 'tBodyAccJerk-arCoeff()-X,1',\n",
              " 'tBodyAccJerk-arCoeff()-X,2',\n",
              " 'tBodyAccJerk-arCoeff()-X,3',\n",
              " 'tBodyAccJerk-arCoeff()-X,4',\n",
              " 'tBodyAccJerk-arCoeff()-Y,1',\n",
              " 'tBodyAccJerk-arCoeff()-Y,2',\n",
              " 'tBodyAccJerk-arCoeff()-Y,3',\n",
              " 'tBodyAccJerk-arCoeff()-Y,4',\n",
              " 'tBodyAccJerk-arCoeff()-Z,1',\n",
              " 'tBodyAccJerk-arCoeff()-Z,2',\n",
              " 'tBodyAccJerk-arCoeff()-Z,3',\n",
              " 'tBodyAccJerk-arCoeff()-Z,4',\n",
              " 'tBodyAccJerk-correlation()-X,Y',\n",
              " 'tBodyAccJerk-correlation()-X,Z',\n",
              " 'tBodyAccJerk-correlation()-Y,Z',\n",
              " 'tBodyGyro-mean()-X',\n",
              " 'tBodyGyro-mean()-Y',\n",
              " 'tBodyGyro-mean()-Z',\n",
              " 'tBodyGyro-std()-X',\n",
              " 'tBodyGyro-std()-Y',\n",
              " 'tBodyGyro-std()-Z',\n",
              " 'tBodyGyro-mad()-X',\n",
              " 'tBodyGyro-mad()-Y',\n",
              " 'tBodyGyro-mad()-Z',\n",
              " 'tBodyGyro-max()-X',\n",
              " 'tBodyGyro-max()-Y',\n",
              " 'tBodyGyro-max()-Z',\n",
              " 'tBodyGyro-min()-X',\n",
              " 'tBodyGyro-min()-Y',\n",
              " 'tBodyGyro-min()-Z',\n",
              " 'tBodyGyro-sma()',\n",
              " 'tBodyGyro-energy()-X',\n",
              " 'tBodyGyro-energy()-Y',\n",
              " 'tBodyGyro-energy()-Z',\n",
              " 'tBodyGyro-iqr()-X',\n",
              " 'tBodyGyro-iqr()-Y',\n",
              " 'tBodyGyro-iqr()-Z',\n",
              " 'tBodyGyro-entropy()-X',\n",
              " 'tBodyGyro-entropy()-Y',\n",
              " 'tBodyGyro-entropy()-Z',\n",
              " 'tBodyGyro-arCoeff()-X,1',\n",
              " 'tBodyGyro-arCoeff()-X,2',\n",
              " 'tBodyGyro-arCoeff()-X,3',\n",
              " 'tBodyGyro-arCoeff()-X,4',\n",
              " 'tBodyGyro-arCoeff()-Y,1',\n",
              " 'tBodyGyro-arCoeff()-Y,2',\n",
              " 'tBodyGyro-arCoeff()-Y,3',\n",
              " 'tBodyGyro-arCoeff()-Y,4',\n",
              " 'tBodyGyro-arCoeff()-Z,1',\n",
              " 'tBodyGyro-arCoeff()-Z,2',\n",
              " 'tBodyGyro-arCoeff()-Z,3',\n",
              " 'tBodyGyro-arCoeff()-Z,4',\n",
              " 'tBodyGyro-correlation()-X,Y',\n",
              " 'tBodyGyro-correlation()-X,Z',\n",
              " 'tBodyGyro-correlation()-Y,Z',\n",
              " 'tBodyGyroJerk-mean()-X',\n",
              " 'tBodyGyroJerk-mean()-Y',\n",
              " 'tBodyGyroJerk-mean()-Z',\n",
              " 'tBodyGyroJerk-std()-X',\n",
              " 'tBodyGyroJerk-std()-Y',\n",
              " 'tBodyGyroJerk-std()-Z',\n",
              " 'tBodyGyroJerk-mad()-X',\n",
              " 'tBodyGyroJerk-mad()-Y',\n",
              " 'tBodyGyroJerk-mad()-Z',\n",
              " 'tBodyGyroJerk-max()-X',\n",
              " 'tBodyGyroJerk-max()-Y',\n",
              " 'tBodyGyroJerk-max()-Z',\n",
              " 'tBodyGyroJerk-min()-X',\n",
              " 'tBodyGyroJerk-min()-Y',\n",
              " 'tBodyGyroJerk-min()-Z',\n",
              " 'tBodyGyroJerk-sma()',\n",
              " 'tBodyGyroJerk-energy()-X',\n",
              " 'tBodyGyroJerk-energy()-Y',\n",
              " 'tBodyGyroJerk-energy()-Z',\n",
              " 'tBodyGyroJerk-iqr()-X',\n",
              " 'tBodyGyroJerk-iqr()-Y',\n",
              " 'tBodyGyroJerk-iqr()-Z',\n",
              " 'tBodyGyroJerk-entropy()-X',\n",
              " 'tBodyGyroJerk-entropy()-Y',\n",
              " 'tBodyGyroJerk-entropy()-Z',\n",
              " 'tBodyGyroJerk-arCoeff()-X,1',\n",
              " 'tBodyGyroJerk-arCoeff()-X,2',\n",
              " 'tBodyGyroJerk-arCoeff()-X,3',\n",
              " 'tBodyGyroJerk-arCoeff()-X,4',\n",
              " 'tBodyGyroJerk-arCoeff()-Y,1',\n",
              " 'tBodyGyroJerk-arCoeff()-Y,2',\n",
              " 'tBodyGyroJerk-arCoeff()-Y,3',\n",
              " 'tBodyGyroJerk-arCoeff()-Y,4',\n",
              " 'tBodyGyroJerk-arCoeff()-Z,1',\n",
              " 'tBodyGyroJerk-arCoeff()-Z,2',\n",
              " 'tBodyGyroJerk-arCoeff()-Z,3',\n",
              " 'tBodyGyroJerk-arCoeff()-Z,4',\n",
              " 'tBodyGyroJerk-correlation()-X,Y',\n",
              " 'tBodyGyroJerk-correlation()-X,Z',\n",
              " 'tBodyGyroJerk-correlation()-Y,Z',\n",
              " 'tBodyAccMag-mean()',\n",
              " 'tBodyAccMag-std()',\n",
              " 'tBodyAccMag-mad()',\n",
              " 'tBodyAccMag-max()',\n",
              " 'tBodyAccMag-min()',\n",
              " 'tBodyAccMag-sma()',\n",
              " 'tBodyAccMag-energy()',\n",
              " 'tBodyAccMag-iqr()',\n",
              " 'tBodyAccMag-entropy()',\n",
              " 'tBodyAccMag-arCoeff()1',\n",
              " 'tBodyAccMag-arCoeff()2',\n",
              " 'tBodyAccMag-arCoeff()3',\n",
              " 'tBodyAccMag-arCoeff()4',\n",
              " 'tGravityAccMag-mean()',\n",
              " 'tGravityAccMag-std()',\n",
              " 'tGravityAccMag-mad()',\n",
              " 'tGravityAccMag-max()',\n",
              " 'tGravityAccMag-min()',\n",
              " 'tGravityAccMag-sma()',\n",
              " 'tGravityAccMag-energy()',\n",
              " 'tGravityAccMag-iqr()',\n",
              " 'tGravityAccMag-entropy()',\n",
              " 'tGravityAccMag-arCoeff()1',\n",
              " 'tGravityAccMag-arCoeff()2',\n",
              " 'tGravityAccMag-arCoeff()3',\n",
              " 'tGravityAccMag-arCoeff()4',\n",
              " 'tBodyAccJerkMag-mean()',\n",
              " 'tBodyAccJerkMag-std()',\n",
              " 'tBodyAccJerkMag-mad()',\n",
              " 'tBodyAccJerkMag-max()',\n",
              " 'tBodyAccJerkMag-min()',\n",
              " 'tBodyAccJerkMag-sma()',\n",
              " 'tBodyAccJerkMag-energy()',\n",
              " 'tBodyAccJerkMag-iqr()',\n",
              " 'tBodyAccJerkMag-entropy()',\n",
              " 'tBodyAccJerkMag-arCoeff()1',\n",
              " 'tBodyAccJerkMag-arCoeff()2',\n",
              " 'tBodyAccJerkMag-arCoeff()3',\n",
              " 'tBodyAccJerkMag-arCoeff()4',\n",
              " 'tBodyGyroMag-mean()',\n",
              " 'tBodyGyroMag-std()',\n",
              " 'tBodyGyroMag-mad()',\n",
              " 'tBodyGyroMag-max()',\n",
              " 'tBodyGyroMag-min()',\n",
              " 'tBodyGyroMag-sma()',\n",
              " 'tBodyGyroMag-energy()',\n",
              " 'tBodyGyroMag-iqr()',\n",
              " 'tBodyGyroMag-entropy()',\n",
              " 'tBodyGyroMag-arCoeff()1',\n",
              " 'tBodyGyroMag-arCoeff()2',\n",
              " 'tBodyGyroMag-arCoeff()3',\n",
              " 'tBodyGyroMag-arCoeff()4',\n",
              " 'tBodyGyroJerkMag-mean()',\n",
              " 'tBodyGyroJerkMag-std()',\n",
              " 'tBodyGyroJerkMag-mad()',\n",
              " 'tBodyGyroJerkMag-max()',\n",
              " 'tBodyGyroJerkMag-min()',\n",
              " 'tBodyGyroJerkMag-sma()',\n",
              " 'tBodyGyroJerkMag-energy()',\n",
              " 'tBodyGyroJerkMag-iqr()',\n",
              " 'tBodyGyroJerkMag-entropy()',\n",
              " 'tBodyGyroJerkMag-arCoeff()1',\n",
              " 'tBodyGyroJerkMag-arCoeff()2',\n",
              " 'tBodyGyroJerkMag-arCoeff()3',\n",
              " 'tBodyGyroJerkMag-arCoeff()4',\n",
              " 'fBodyAcc-mean()-X',\n",
              " 'fBodyAcc-mean()-Y',\n",
              " 'fBodyAcc-mean()-Z',\n",
              " 'fBodyAcc-std()-X',\n",
              " 'fBodyAcc-std()-Y',\n",
              " 'fBodyAcc-std()-Z',\n",
              " 'fBodyAcc-mad()-X',\n",
              " 'fBodyAcc-mad()-Y',\n",
              " 'fBodyAcc-mad()-Z',\n",
              " 'fBodyAcc-max()-X',\n",
              " 'fBodyAcc-max()-Y',\n",
              " 'fBodyAcc-max()-Z',\n",
              " 'fBodyAcc-min()-X',\n",
              " 'fBodyAcc-min()-Y',\n",
              " 'fBodyAcc-min()-Z',\n",
              " 'fBodyAcc-sma()',\n",
              " 'fBodyAcc-energy()-X',\n",
              " 'fBodyAcc-energy()-Y',\n",
              " 'fBodyAcc-energy()-Z',\n",
              " 'fBodyAcc-iqr()-X',\n",
              " 'fBodyAcc-iqr()-Y',\n",
              " 'fBodyAcc-iqr()-Z',\n",
              " 'fBodyAcc-entropy()-X',\n",
              " 'fBodyAcc-entropy()-Y',\n",
              " 'fBodyAcc-entropy()-Z',\n",
              " 'fBodyAcc-maxInds-X',\n",
              " 'fBodyAcc-maxInds-Y',\n",
              " 'fBodyAcc-maxInds-Z',\n",
              " 'fBodyAcc-meanFreq()-X',\n",
              " 'fBodyAcc-meanFreq()-Y',\n",
              " 'fBodyAcc-meanFreq()-Z',\n",
              " 'fBodyAcc-skewness()-X',\n",
              " 'fBodyAcc-kurtosis()-X',\n",
              " 'fBodyAcc-skewness()-Y',\n",
              " 'fBodyAcc-kurtosis()-Y',\n",
              " 'fBodyAcc-skewness()-Z',\n",
              " 'fBodyAcc-kurtosis()-Z',\n",
              " 'fBodyAcc-bandsEnergy()-1,8',\n",
              " 'fBodyAcc-bandsEnergy()-9,16',\n",
              " 'fBodyAcc-bandsEnergy()-17,24',\n",
              " 'fBodyAcc-bandsEnergy()-25,32',\n",
              " 'fBodyAcc-bandsEnergy()-33,40',\n",
              " 'fBodyAcc-bandsEnergy()-41,48',\n",
              " 'fBodyAcc-bandsEnergy()-49,56',\n",
              " 'fBodyAcc-bandsEnergy()-57,64',\n",
              " 'fBodyAcc-bandsEnergy()-1,16',\n",
              " 'fBodyAcc-bandsEnergy()-17,32',\n",
              " 'fBodyAcc-bandsEnergy()-33,48',\n",
              " 'fBodyAcc-bandsEnergy()-49,64',\n",
              " 'fBodyAcc-bandsEnergy()-1,24',\n",
              " 'fBodyAcc-bandsEnergy()-25,48',\n",
              " 'fBodyAcc-bandsEnergy()-1,8',\n",
              " 'fBodyAcc-bandsEnergy()-9,16',\n",
              " 'fBodyAcc-bandsEnergy()-17,24',\n",
              " 'fBodyAcc-bandsEnergy()-25,32',\n",
              " 'fBodyAcc-bandsEnergy()-33,40',\n",
              " 'fBodyAcc-bandsEnergy()-41,48',\n",
              " 'fBodyAcc-bandsEnergy()-49,56',\n",
              " 'fBodyAcc-bandsEnergy()-57,64',\n",
              " 'fBodyAcc-bandsEnergy()-1,16',\n",
              " 'fBodyAcc-bandsEnergy()-17,32',\n",
              " 'fBodyAcc-bandsEnergy()-33,48',\n",
              " 'fBodyAcc-bandsEnergy()-49,64',\n",
              " 'fBodyAcc-bandsEnergy()-1,24',\n",
              " 'fBodyAcc-bandsEnergy()-25,48',\n",
              " 'fBodyAcc-bandsEnergy()-1,8',\n",
              " 'fBodyAcc-bandsEnergy()-9,16',\n",
              " 'fBodyAcc-bandsEnergy()-17,24',\n",
              " 'fBodyAcc-bandsEnergy()-25,32',\n",
              " 'fBodyAcc-bandsEnergy()-33,40',\n",
              " 'fBodyAcc-bandsEnergy()-41,48',\n",
              " 'fBodyAcc-bandsEnergy()-49,56',\n",
              " 'fBodyAcc-bandsEnergy()-57,64',\n",
              " 'fBodyAcc-bandsEnergy()-1,16',\n",
              " 'fBodyAcc-bandsEnergy()-17,32',\n",
              " 'fBodyAcc-bandsEnergy()-33,48',\n",
              " 'fBodyAcc-bandsEnergy()-49,64',\n",
              " 'fBodyAcc-bandsEnergy()-1,24',\n",
              " 'fBodyAcc-bandsEnergy()-25,48',\n",
              " 'fBodyAccJerk-mean()-X',\n",
              " 'fBodyAccJerk-mean()-Y',\n",
              " 'fBodyAccJerk-mean()-Z',\n",
              " 'fBodyAccJerk-std()-X',\n",
              " 'fBodyAccJerk-std()-Y',\n",
              " 'fBodyAccJerk-std()-Z',\n",
              " 'fBodyAccJerk-mad()-X',\n",
              " 'fBodyAccJerk-mad()-Y',\n",
              " 'fBodyAccJerk-mad()-Z',\n",
              " 'fBodyAccJerk-max()-X',\n",
              " 'fBodyAccJerk-max()-Y',\n",
              " 'fBodyAccJerk-max()-Z',\n",
              " 'fBodyAccJerk-min()-X',\n",
              " 'fBodyAccJerk-min()-Y',\n",
              " 'fBodyAccJerk-min()-Z',\n",
              " 'fBodyAccJerk-sma()',\n",
              " 'fBodyAccJerk-energy()-X',\n",
              " 'fBodyAccJerk-energy()-Y',\n",
              " 'fBodyAccJerk-energy()-Z',\n",
              " 'fBodyAccJerk-iqr()-X',\n",
              " 'fBodyAccJerk-iqr()-Y',\n",
              " 'fBodyAccJerk-iqr()-Z',\n",
              " 'fBodyAccJerk-entropy()-X',\n",
              " 'fBodyAccJerk-entropy()-Y',\n",
              " 'fBodyAccJerk-entropy()-Z',\n",
              " 'fBodyAccJerk-maxInds-X',\n",
              " 'fBodyAccJerk-maxInds-Y',\n",
              " 'fBodyAccJerk-maxInds-Z',\n",
              " 'fBodyAccJerk-meanFreq()-X',\n",
              " 'fBodyAccJerk-meanFreq()-Y',\n",
              " 'fBodyAccJerk-meanFreq()-Z',\n",
              " 'fBodyAccJerk-skewness()-X',\n",
              " 'fBodyAccJerk-kurtosis()-X',\n",
              " 'fBodyAccJerk-skewness()-Y',\n",
              " 'fBodyAccJerk-kurtosis()-Y',\n",
              " 'fBodyAccJerk-skewness()-Z',\n",
              " 'fBodyAccJerk-kurtosis()-Z',\n",
              " 'fBodyAccJerk-bandsEnergy()-1,8',\n",
              " 'fBodyAccJerk-bandsEnergy()-9,16',\n",
              " 'fBodyAccJerk-bandsEnergy()-17,24',\n",
              " 'fBodyAccJerk-bandsEnergy()-25,32',\n",
              " 'fBodyAccJerk-bandsEnergy()-33,40',\n",
              " 'fBodyAccJerk-bandsEnergy()-41,48',\n",
              " 'fBodyAccJerk-bandsEnergy()-49,56',\n",
              " 'fBodyAccJerk-bandsEnergy()-57,64',\n",
              " 'fBodyAccJerk-bandsEnergy()-1,16',\n",
              " 'fBodyAccJerk-bandsEnergy()-17,32',\n",
              " 'fBodyAccJerk-bandsEnergy()-33,48',\n",
              " 'fBodyAccJerk-bandsEnergy()-49,64',\n",
              " 'fBodyAccJerk-bandsEnergy()-1,24',\n",
              " 'fBodyAccJerk-bandsEnergy()-25,48',\n",
              " 'fBodyAccJerk-bandsEnergy()-1,8',\n",
              " 'fBodyAccJerk-bandsEnergy()-9,16',\n",
              " 'fBodyAccJerk-bandsEnergy()-17,24',\n",
              " 'fBodyAccJerk-bandsEnergy()-25,32',\n",
              " 'fBodyAccJerk-bandsEnergy()-33,40',\n",
              " 'fBodyAccJerk-bandsEnergy()-41,48',\n",
              " 'fBodyAccJerk-bandsEnergy()-49,56',\n",
              " 'fBodyAccJerk-bandsEnergy()-57,64',\n",
              " 'fBodyAccJerk-bandsEnergy()-1,16',\n",
              " 'fBodyAccJerk-bandsEnergy()-17,32',\n",
              " 'fBodyAccJerk-bandsEnergy()-33,48',\n",
              " 'fBodyAccJerk-bandsEnergy()-49,64',\n",
              " 'fBodyAccJerk-bandsEnergy()-1,24',\n",
              " 'fBodyAccJerk-bandsEnergy()-25,48',\n",
              " 'fBodyAccJerk-bandsEnergy()-1,8',\n",
              " 'fBodyAccJerk-bandsEnergy()-9,16',\n",
              " 'fBodyAccJerk-bandsEnergy()-17,24',\n",
              " 'fBodyAccJerk-bandsEnergy()-25,32',\n",
              " 'fBodyAccJerk-bandsEnergy()-33,40',\n",
              " 'fBodyAccJerk-bandsEnergy()-41,48',\n",
              " 'fBodyAccJerk-bandsEnergy()-49,56',\n",
              " 'fBodyAccJerk-bandsEnergy()-57,64',\n",
              " 'fBodyAccJerk-bandsEnergy()-1,16',\n",
              " 'fBodyAccJerk-bandsEnergy()-17,32',\n",
              " 'fBodyAccJerk-bandsEnergy()-33,48',\n",
              " 'fBodyAccJerk-bandsEnergy()-49,64',\n",
              " 'fBodyAccJerk-bandsEnergy()-1,24',\n",
              " 'fBodyAccJerk-bandsEnergy()-25,48',\n",
              " 'fBodyGyro-mean()-X',\n",
              " 'fBodyGyro-mean()-Y',\n",
              " 'fBodyGyro-mean()-Z',\n",
              " 'fBodyGyro-std()-X',\n",
              " 'fBodyGyro-std()-Y',\n",
              " 'fBodyGyro-std()-Z',\n",
              " 'fBodyGyro-mad()-X',\n",
              " 'fBodyGyro-mad()-Y',\n",
              " 'fBodyGyro-mad()-Z',\n",
              " 'fBodyGyro-max()-X',\n",
              " 'fBodyGyro-max()-Y',\n",
              " 'fBodyGyro-max()-Z',\n",
              " 'fBodyGyro-min()-X',\n",
              " 'fBodyGyro-min()-Y',\n",
              " 'fBodyGyro-min()-Z',\n",
              " 'fBodyGyro-sma()',\n",
              " 'fBodyGyro-energy()-X',\n",
              " 'fBodyGyro-energy()-Y',\n",
              " 'fBodyGyro-energy()-Z',\n",
              " 'fBodyGyro-iqr()-X',\n",
              " 'fBodyGyro-iqr()-Y',\n",
              " 'fBodyGyro-iqr()-Z',\n",
              " 'fBodyGyro-entropy()-X',\n",
              " 'fBodyGyro-entropy()-Y',\n",
              " 'fBodyGyro-entropy()-Z',\n",
              " 'fBodyGyro-maxInds-X',\n",
              " 'fBodyGyro-maxInds-Y',\n",
              " 'fBodyGyro-maxInds-Z',\n",
              " 'fBodyGyro-meanFreq()-X',\n",
              " 'fBodyGyro-meanFreq()-Y',\n",
              " 'fBodyGyro-meanFreq()-Z',\n",
              " 'fBodyGyro-skewness()-X',\n",
              " 'fBodyGyro-kurtosis()-X',\n",
              " 'fBodyGyro-skewness()-Y',\n",
              " 'fBodyGyro-kurtosis()-Y',\n",
              " 'fBodyGyro-skewness()-Z',\n",
              " 'fBodyGyro-kurtosis()-Z',\n",
              " 'fBodyGyro-bandsEnergy()-1,8',\n",
              " 'fBodyGyro-bandsEnergy()-9,16',\n",
              " 'fBodyGyro-bandsEnergy()-17,24',\n",
              " 'fBodyGyro-bandsEnergy()-25,32',\n",
              " 'fBodyGyro-bandsEnergy()-33,40',\n",
              " 'fBodyGyro-bandsEnergy()-41,48',\n",
              " 'fBodyGyro-bandsEnergy()-49,56',\n",
              " 'fBodyGyro-bandsEnergy()-57,64',\n",
              " 'fBodyGyro-bandsEnergy()-1,16',\n",
              " 'fBodyGyro-bandsEnergy()-17,32',\n",
              " 'fBodyGyro-bandsEnergy()-33,48',\n",
              " 'fBodyGyro-bandsEnergy()-49,64',\n",
              " 'fBodyGyro-bandsEnergy()-1,24',\n",
              " 'fBodyGyro-bandsEnergy()-25,48',\n",
              " 'fBodyGyro-bandsEnergy()-1,8',\n",
              " 'fBodyGyro-bandsEnergy()-9,16',\n",
              " 'fBodyGyro-bandsEnergy()-17,24',\n",
              " 'fBodyGyro-bandsEnergy()-25,32',\n",
              " 'fBodyGyro-bandsEnergy()-33,40',\n",
              " 'fBodyGyro-bandsEnergy()-41,48',\n",
              " 'fBodyGyro-bandsEnergy()-49,56',\n",
              " 'fBodyGyro-bandsEnergy()-57,64',\n",
              " 'fBodyGyro-bandsEnergy()-1,16',\n",
              " 'fBodyGyro-bandsEnergy()-17,32',\n",
              " 'fBodyGyro-bandsEnergy()-33,48',\n",
              " 'fBodyGyro-bandsEnergy()-49,64',\n",
              " 'fBodyGyro-bandsEnergy()-1,24',\n",
              " 'fBodyGyro-bandsEnergy()-25,48',\n",
              " 'fBodyGyro-bandsEnergy()-1,8',\n",
              " 'fBodyGyro-bandsEnergy()-9,16',\n",
              " 'fBodyGyro-bandsEnergy()-17,24',\n",
              " 'fBodyGyro-bandsEnergy()-25,32',\n",
              " 'fBodyGyro-bandsEnergy()-33,40',\n",
              " 'fBodyGyro-bandsEnergy()-41,48',\n",
              " 'fBodyGyro-bandsEnergy()-49,56',\n",
              " 'fBodyGyro-bandsEnergy()-57,64',\n",
              " 'fBodyGyro-bandsEnergy()-1,16',\n",
              " 'fBodyGyro-bandsEnergy()-17,32',\n",
              " 'fBodyGyro-bandsEnergy()-33,48',\n",
              " 'fBodyGyro-bandsEnergy()-49,64',\n",
              " 'fBodyGyro-bandsEnergy()-1,24',\n",
              " 'fBodyGyro-bandsEnergy()-25,48',\n",
              " 'fBodyAccMag-mean()',\n",
              " 'fBodyAccMag-std()',\n",
              " 'fBodyAccMag-mad()',\n",
              " 'fBodyAccMag-max()',\n",
              " 'fBodyAccMag-min()',\n",
              " 'fBodyAccMag-sma()',\n",
              " 'fBodyAccMag-energy()',\n",
              " 'fBodyAccMag-iqr()',\n",
              " 'fBodyAccMag-entropy()',\n",
              " 'fBodyAccMag-maxInds',\n",
              " 'fBodyAccMag-meanFreq()',\n",
              " 'fBodyAccMag-skewness()',\n",
              " 'fBodyAccMag-kurtosis()',\n",
              " 'fBodyBodyAccJerkMag-mean()',\n",
              " 'fBodyBodyAccJerkMag-std()',\n",
              " 'fBodyBodyAccJerkMag-mad()',\n",
              " 'fBodyBodyAccJerkMag-max()',\n",
              " 'fBodyBodyAccJerkMag-min()',\n",
              " 'fBodyBodyAccJerkMag-sma()',\n",
              " 'fBodyBodyAccJerkMag-energy()',\n",
              " 'fBodyBodyAccJerkMag-iqr()',\n",
              " 'fBodyBodyAccJerkMag-entropy()',\n",
              " 'fBodyBodyAccJerkMag-maxInds',\n",
              " 'fBodyBodyAccJerkMag-meanFreq()',\n",
              " 'fBodyBodyAccJerkMag-skewness()',\n",
              " 'fBodyBodyAccJerkMag-kurtosis()',\n",
              " 'fBodyBodyGyroMag-mean()',\n",
              " 'fBodyBodyGyroMag-std()',\n",
              " 'fBodyBodyGyroMag-mad()',\n",
              " 'fBodyBodyGyroMag-max()',\n",
              " 'fBodyBodyGyroMag-min()',\n",
              " 'fBodyBodyGyroMag-sma()',\n",
              " 'fBodyBodyGyroMag-energy()',\n",
              " 'fBodyBodyGyroMag-iqr()',\n",
              " 'fBodyBodyGyroMag-entropy()',\n",
              " 'fBodyBodyGyroMag-maxInds',\n",
              " 'fBodyBodyGyroMag-meanFreq()',\n",
              " 'fBodyBodyGyroMag-skewness()',\n",
              " 'fBodyBodyGyroMag-kurtosis()',\n",
              " 'fBodyBodyGyroJerkMag-mean()',\n",
              " 'fBodyBodyGyroJerkMag-std()',\n",
              " 'fBodyBodyGyroJerkMag-mad()',\n",
              " 'fBodyBodyGyroJerkMag-max()',\n",
              " 'fBodyBodyGyroJerkMag-min()',\n",
              " 'fBodyBodyGyroJerkMag-sma()',\n",
              " 'fBodyBodyGyroJerkMag-energy()',\n",
              " 'fBodyBodyGyroJerkMag-iqr()',\n",
              " 'fBodyBodyGyroJerkMag-entropy()',\n",
              " 'fBodyBodyGyroJerkMag-maxInds',\n",
              " 'fBodyBodyGyroJerkMag-meanFreq()',\n",
              " 'fBodyBodyGyroJerkMag-skewness()',\n",
              " 'fBodyBodyGyroJerkMag-kurtosis()',\n",
              " 'angle(tBodyAccMean,gravity)',\n",
              " 'angle(tBodyAccJerkMean),gravityMean)',\n",
              " 'angle(tBodyGyroMean,gravityMean)',\n",
              " 'angle(tBodyGyroJerkMean,gravityMean)',\n",
              " 'angle(X,gravityMean)',\n",
              " 'angle(Y,gravityMean)',\n",
              " 'angle(Z,gravityMean)']"
            ]
          },
          "execution_count": 43,
          "metadata": {},
          "output_type": "execute_result"
        }
      ],
      "source": [
        "features"
      ]
    },
    {
      "cell_type": "code",
      "execution_count": null,
      "metadata": {
        "id": "RNHgiTdKMnUI"
      },
      "outputs": [],
      "source": [
        "test_df = pd.read_csv(\"UCI HAR Dataset/test/X_test.txt\", delim_whitespace = True,names=list(range(0,561)))\n",
        "\n",
        "test_df['Subject'] = pd.read_csv(\"UCI HAR Dataset/test/subject_test.txt\", header = None, squeeze = True)\n",
        "\n",
        "test_df[\"activity\"] = pd.read_csv(\"UCI HAR Dataset/test/y_test.txt\", header = None, squeeze = True)"
      ]
    },
    {
      "cell_type": "code",
      "execution_count": null,
      "metadata": {
        "colab": {
          "base_uri": "https://localhost:8080/",
          "height": 488
        },
        "id": "w9uxHmErMnRs",
        "outputId": "0101c050-a354-43ed-bb7e-573981774333"
      },
      "outputs": [
        {
          "data": {
            "text/html": [
              "\n",
              "  <div id=\"df-9e1a8166-6adc-40ee-b09c-77f7a816e06b\">\n",
              "    <div class=\"colab-df-container\">\n",
              "      <div>\n",
              "<style scoped>\n",
              "    .dataframe tbody tr th:only-of-type {\n",
              "        vertical-align: middle;\n",
              "    }\n",
              "\n",
              "    .dataframe tbody tr th {\n",
              "        vertical-align: top;\n",
              "    }\n",
              "\n",
              "    .dataframe thead th {\n",
              "        text-align: right;\n",
              "    }\n",
              "</style>\n",
              "<table border=\"1\" class=\"dataframe\">\n",
              "  <thead>\n",
              "    <tr style=\"text-align: right;\">\n",
              "      <th></th>\n",
              "      <th>0</th>\n",
              "      <th>1</th>\n",
              "      <th>2</th>\n",
              "      <th>3</th>\n",
              "      <th>4</th>\n",
              "      <th>5</th>\n",
              "      <th>6</th>\n",
              "      <th>7</th>\n",
              "      <th>8</th>\n",
              "      <th>9</th>\n",
              "      <th>...</th>\n",
              "      <th>553</th>\n",
              "      <th>554</th>\n",
              "      <th>555</th>\n",
              "      <th>556</th>\n",
              "      <th>557</th>\n",
              "      <th>558</th>\n",
              "      <th>559</th>\n",
              "      <th>560</th>\n",
              "      <th>Subject</th>\n",
              "      <th>activity</th>\n",
              "    </tr>\n",
              "  </thead>\n",
              "  <tbody>\n",
              "    <tr>\n",
              "      <th>0</th>\n",
              "      <td>0.257178</td>\n",
              "      <td>-0.023285</td>\n",
              "      <td>-0.014654</td>\n",
              "      <td>-0.938404</td>\n",
              "      <td>-0.920091</td>\n",
              "      <td>-0.667683</td>\n",
              "      <td>-0.952501</td>\n",
              "      <td>-0.925249</td>\n",
              "      <td>-0.674302</td>\n",
              "      <td>-0.894088</td>\n",
              "      <td>...</td>\n",
              "      <td>-0.705974</td>\n",
              "      <td>0.006462</td>\n",
              "      <td>0.162920</td>\n",
              "      <td>-0.825886</td>\n",
              "      <td>0.271151</td>\n",
              "      <td>-0.720009</td>\n",
              "      <td>0.276801</td>\n",
              "      <td>-0.057978</td>\n",
              "      <td>2</td>\n",
              "      <td>5</td>\n",
              "    </tr>\n",
              "    <tr>\n",
              "      <th>1</th>\n",
              "      <td>0.286027</td>\n",
              "      <td>-0.013163</td>\n",
              "      <td>-0.119083</td>\n",
              "      <td>-0.975415</td>\n",
              "      <td>-0.967458</td>\n",
              "      <td>-0.944958</td>\n",
              "      <td>-0.986799</td>\n",
              "      <td>-0.968401</td>\n",
              "      <td>-0.945823</td>\n",
              "      <td>-0.894088</td>\n",
              "      <td>...</td>\n",
              "      <td>-0.594944</td>\n",
              "      <td>-0.083495</td>\n",
              "      <td>0.017500</td>\n",
              "      <td>-0.434375</td>\n",
              "      <td>0.920593</td>\n",
              "      <td>-0.698091</td>\n",
              "      <td>0.281343</td>\n",
              "      <td>-0.083898</td>\n",
              "      <td>2</td>\n",
              "      <td>5</td>\n",
              "    </tr>\n",
              "    <tr>\n",
              "      <th>2</th>\n",
              "      <td>0.275485</td>\n",
              "      <td>-0.026050</td>\n",
              "      <td>-0.118152</td>\n",
              "      <td>-0.993819</td>\n",
              "      <td>-0.969926</td>\n",
              "      <td>-0.962748</td>\n",
              "      <td>-0.994403</td>\n",
              "      <td>-0.970735</td>\n",
              "      <td>-0.963483</td>\n",
              "      <td>-0.939260</td>\n",
              "      <td>...</td>\n",
              "      <td>-0.640736</td>\n",
              "      <td>-0.034956</td>\n",
              "      <td>0.202302</td>\n",
              "      <td>0.064103</td>\n",
              "      <td>0.145068</td>\n",
              "      <td>-0.702771</td>\n",
              "      <td>0.280083</td>\n",
              "      <td>-0.079346</td>\n",
              "      <td>2</td>\n",
              "      <td>5</td>\n",
              "    </tr>\n",
              "    <tr>\n",
              "      <th>3</th>\n",
              "      <td>0.270298</td>\n",
              "      <td>-0.032614</td>\n",
              "      <td>-0.117520</td>\n",
              "      <td>-0.994743</td>\n",
              "      <td>-0.973268</td>\n",
              "      <td>-0.967091</td>\n",
              "      <td>-0.995274</td>\n",
              "      <td>-0.974471</td>\n",
              "      <td>-0.968897</td>\n",
              "      <td>-0.938610</td>\n",
              "      <td>...</td>\n",
              "      <td>-0.736124</td>\n",
              "      <td>-0.017067</td>\n",
              "      <td>0.154438</td>\n",
              "      <td>0.340134</td>\n",
              "      <td>0.296407</td>\n",
              "      <td>-0.698954</td>\n",
              "      <td>0.284114</td>\n",
              "      <td>-0.077108</td>\n",
              "      <td>2</td>\n",
              "      <td>5</td>\n",
              "    </tr>\n",
              "    <tr>\n",
              "      <th>4</th>\n",
              "      <td>0.274833</td>\n",
              "      <td>-0.027848</td>\n",
              "      <td>-0.129527</td>\n",
              "      <td>-0.993852</td>\n",
              "      <td>-0.967445</td>\n",
              "      <td>-0.978295</td>\n",
              "      <td>-0.994111</td>\n",
              "      <td>-0.965953</td>\n",
              "      <td>-0.977346</td>\n",
              "      <td>-0.938610</td>\n",
              "      <td>...</td>\n",
              "      <td>-0.846595</td>\n",
              "      <td>-0.002223</td>\n",
              "      <td>-0.040046</td>\n",
              "      <td>0.736715</td>\n",
              "      <td>-0.118545</td>\n",
              "      <td>-0.692245</td>\n",
              "      <td>0.290722</td>\n",
              "      <td>-0.073857</td>\n",
              "      <td>2</td>\n",
              "      <td>5</td>\n",
              "    </tr>\n",
              "    <tr>\n",
              "      <th>...</th>\n",
              "      <td>...</td>\n",
              "      <td>...</td>\n",
              "      <td>...</td>\n",
              "      <td>...</td>\n",
              "      <td>...</td>\n",
              "      <td>...</td>\n",
              "      <td>...</td>\n",
              "      <td>...</td>\n",
              "      <td>...</td>\n",
              "      <td>...</td>\n",
              "      <td>...</td>\n",
              "      <td>...</td>\n",
              "      <td>...</td>\n",
              "      <td>...</td>\n",
              "      <td>...</td>\n",
              "      <td>...</td>\n",
              "      <td>...</td>\n",
              "      <td>...</td>\n",
              "      <td>...</td>\n",
              "      <td>...</td>\n",
              "      <td>...</td>\n",
              "    </tr>\n",
              "    <tr>\n",
              "      <th>2942</th>\n",
              "      <td>0.310155</td>\n",
              "      <td>-0.053391</td>\n",
              "      <td>-0.099109</td>\n",
              "      <td>-0.287866</td>\n",
              "      <td>-0.140589</td>\n",
              "      <td>-0.215088</td>\n",
              "      <td>-0.356083</td>\n",
              "      <td>-0.148775</td>\n",
              "      <td>-0.232057</td>\n",
              "      <td>0.185361</td>\n",
              "      <td>...</td>\n",
              "      <td>-0.750809</td>\n",
              "      <td>-0.337422</td>\n",
              "      <td>0.346295</td>\n",
              "      <td>0.884904</td>\n",
              "      <td>-0.698885</td>\n",
              "      <td>-0.651732</td>\n",
              "      <td>0.274627</td>\n",
              "      <td>0.184784</td>\n",
              "      <td>24</td>\n",
              "      <td>2</td>\n",
              "    </tr>\n",
              "    <tr>\n",
              "      <th>2943</th>\n",
              "      <td>0.363385</td>\n",
              "      <td>-0.039214</td>\n",
              "      <td>-0.105915</td>\n",
              "      <td>-0.305388</td>\n",
              "      <td>0.028148</td>\n",
              "      <td>-0.196373</td>\n",
              "      <td>-0.373540</td>\n",
              "      <td>-0.030036</td>\n",
              "      <td>-0.270237</td>\n",
              "      <td>0.185361</td>\n",
              "      <td>...</td>\n",
              "      <td>-0.700274</td>\n",
              "      <td>-0.736701</td>\n",
              "      <td>-0.372889</td>\n",
              "      <td>-0.657421</td>\n",
              "      <td>0.322549</td>\n",
              "      <td>-0.655181</td>\n",
              "      <td>0.273578</td>\n",
              "      <td>0.182412</td>\n",
              "      <td>24</td>\n",
              "      <td>2</td>\n",
              "    </tr>\n",
              "    <tr>\n",
              "      <th>2944</th>\n",
              "      <td>0.349966</td>\n",
              "      <td>0.030077</td>\n",
              "      <td>-0.115788</td>\n",
              "      <td>-0.329638</td>\n",
              "      <td>-0.042143</td>\n",
              "      <td>-0.250181</td>\n",
              "      <td>-0.388017</td>\n",
              "      <td>-0.133257</td>\n",
              "      <td>-0.347029</td>\n",
              "      <td>0.007471</td>\n",
              "      <td>...</td>\n",
              "      <td>-0.467179</td>\n",
              "      <td>-0.181560</td>\n",
              "      <td>0.088574</td>\n",
              "      <td>0.696663</td>\n",
              "      <td>0.363139</td>\n",
              "      <td>-0.655357</td>\n",
              "      <td>0.274479</td>\n",
              "      <td>0.181184</td>\n",
              "      <td>24</td>\n",
              "      <td>2</td>\n",
              "    </tr>\n",
              "    <tr>\n",
              "      <th>2945</th>\n",
              "      <td>0.237594</td>\n",
              "      <td>0.018467</td>\n",
              "      <td>-0.096499</td>\n",
              "      <td>-0.323114</td>\n",
              "      <td>-0.229775</td>\n",
              "      <td>-0.207574</td>\n",
              "      <td>-0.392380</td>\n",
              "      <td>-0.279610</td>\n",
              "      <td>-0.289477</td>\n",
              "      <td>0.007471</td>\n",
              "      <td>...</td>\n",
              "      <td>-0.617737</td>\n",
              "      <td>0.444558</td>\n",
              "      <td>-0.819188</td>\n",
              "      <td>0.929294</td>\n",
              "      <td>-0.008398</td>\n",
              "      <td>-0.659719</td>\n",
              "      <td>0.264782</td>\n",
              "      <td>0.187563</td>\n",
              "      <td>24</td>\n",
              "      <td>2</td>\n",
              "    </tr>\n",
              "    <tr>\n",
              "      <th>2946</th>\n",
              "      <td>0.153627</td>\n",
              "      <td>-0.018437</td>\n",
              "      <td>-0.137018</td>\n",
              "      <td>-0.330046</td>\n",
              "      <td>-0.195253</td>\n",
              "      <td>-0.164339</td>\n",
              "      <td>-0.430974</td>\n",
              "      <td>-0.218295</td>\n",
              "      <td>-0.229933</td>\n",
              "      <td>-0.111527</td>\n",
              "      <td>...</td>\n",
              "      <td>-0.436940</td>\n",
              "      <td>0.598808</td>\n",
              "      <td>-0.287951</td>\n",
              "      <td>0.876030</td>\n",
              "      <td>-0.024965</td>\n",
              "      <td>-0.660080</td>\n",
              "      <td>0.263936</td>\n",
              "      <td>0.188103</td>\n",
              "      <td>24</td>\n",
              "      <td>2</td>\n",
              "    </tr>\n",
              "  </tbody>\n",
              "</table>\n",
              "<p>2947 rows × 563 columns</p>\n",
              "</div>\n",
              "      <button class=\"colab-df-convert\" onclick=\"convertToInteractive('df-9e1a8166-6adc-40ee-b09c-77f7a816e06b')\"\n",
              "              title=\"Convert this dataframe to an interactive table.\"\n",
              "              style=\"display:none;\">\n",
              "        \n",
              "  <svg xmlns=\"http://www.w3.org/2000/svg\" height=\"24px\"viewBox=\"0 0 24 24\"\n",
              "       width=\"24px\">\n",
              "    <path d=\"M0 0h24v24H0V0z\" fill=\"none\"/>\n",
              "    <path d=\"M18.56 5.44l.94 2.06.94-2.06 2.06-.94-2.06-.94-.94-2.06-.94 2.06-2.06.94zm-11 1L8.5 8.5l.94-2.06 2.06-.94-2.06-.94L8.5 2.5l-.94 2.06-2.06.94zm10 10l.94 2.06.94-2.06 2.06-.94-2.06-.94-.94-2.06-.94 2.06-2.06.94z\"/><path d=\"M17.41 7.96l-1.37-1.37c-.4-.4-.92-.59-1.43-.59-.52 0-1.04.2-1.43.59L10.3 9.45l-7.72 7.72c-.78.78-.78 2.05 0 2.83L4 21.41c.39.39.9.59 1.41.59.51 0 1.02-.2 1.41-.59l7.78-7.78 2.81-2.81c.8-.78.8-2.07 0-2.86zM5.41 20L4 18.59l7.72-7.72 1.47 1.35L5.41 20z\"/>\n",
              "  </svg>\n",
              "      </button>\n",
              "      \n",
              "  <style>\n",
              "    .colab-df-container {\n",
              "      display:flex;\n",
              "      flex-wrap:wrap;\n",
              "      gap: 12px;\n",
              "    }\n",
              "\n",
              "    .colab-df-convert {\n",
              "      background-color: #E8F0FE;\n",
              "      border: none;\n",
              "      border-radius: 50%;\n",
              "      cursor: pointer;\n",
              "      display: none;\n",
              "      fill: #1967D2;\n",
              "      height: 32px;\n",
              "      padding: 0 0 0 0;\n",
              "      width: 32px;\n",
              "    }\n",
              "\n",
              "    .colab-df-convert:hover {\n",
              "      background-color: #E2EBFA;\n",
              "      box-shadow: 0px 1px 2px rgba(60, 64, 67, 0.3), 0px 1px 3px 1px rgba(60, 64, 67, 0.15);\n",
              "      fill: #174EA6;\n",
              "    }\n",
              "\n",
              "    [theme=dark] .colab-df-convert {\n",
              "      background-color: #3B4455;\n",
              "      fill: #D2E3FC;\n",
              "    }\n",
              "\n",
              "    [theme=dark] .colab-df-convert:hover {\n",
              "      background-color: #434B5C;\n",
              "      box-shadow: 0px 1px 3px 1px rgba(0, 0, 0, 0.15);\n",
              "      filter: drop-shadow(0px 1px 2px rgba(0, 0, 0, 0.3));\n",
              "      fill: #FFFFFF;\n",
              "    }\n",
              "  </style>\n",
              "\n",
              "      <script>\n",
              "        const buttonEl =\n",
              "          document.querySelector('#df-9e1a8166-6adc-40ee-b09c-77f7a816e06b button.colab-df-convert');\n",
              "        buttonEl.style.display =\n",
              "          google.colab.kernel.accessAllowed ? 'block' : 'none';\n",
              "\n",
              "        async function convertToInteractive(key) {\n",
              "          const element = document.querySelector('#df-9e1a8166-6adc-40ee-b09c-77f7a816e06b');\n",
              "          const dataTable =\n",
              "            await google.colab.kernel.invokeFunction('convertToInteractive',\n",
              "                                                     [key], {});\n",
              "          if (!dataTable) return;\n",
              "\n",
              "          const docLinkHtml = 'Like what you see? Visit the ' +\n",
              "            '<a target=\"_blank\" href=https://colab.research.google.com/notebooks/data_table.ipynb>data table notebook</a>'\n",
              "            + ' to learn more about interactive tables.';\n",
              "          element.innerHTML = '';\n",
              "          dataTable['output_type'] = 'display_data';\n",
              "          await google.colab.output.renderOutput(dataTable, element);\n",
              "          const docLink = document.createElement('div');\n",
              "          docLink.innerHTML = docLinkHtml;\n",
              "          element.appendChild(docLink);\n",
              "        }\n",
              "      </script>\n",
              "    </div>\n",
              "  </div>\n",
              "  "
            ],
            "text/plain": [
              "             0         1         2         3         4         5         6  \\\n",
              "0     0.257178 -0.023285 -0.014654 -0.938404 -0.920091 -0.667683 -0.952501   \n",
              "1     0.286027 -0.013163 -0.119083 -0.975415 -0.967458 -0.944958 -0.986799   \n",
              "2     0.275485 -0.026050 -0.118152 -0.993819 -0.969926 -0.962748 -0.994403   \n",
              "3     0.270298 -0.032614 -0.117520 -0.994743 -0.973268 -0.967091 -0.995274   \n",
              "4     0.274833 -0.027848 -0.129527 -0.993852 -0.967445 -0.978295 -0.994111   \n",
              "...        ...       ...       ...       ...       ...       ...       ...   \n",
              "2942  0.310155 -0.053391 -0.099109 -0.287866 -0.140589 -0.215088 -0.356083   \n",
              "2943  0.363385 -0.039214 -0.105915 -0.305388  0.028148 -0.196373 -0.373540   \n",
              "2944  0.349966  0.030077 -0.115788 -0.329638 -0.042143 -0.250181 -0.388017   \n",
              "2945  0.237594  0.018467 -0.096499 -0.323114 -0.229775 -0.207574 -0.392380   \n",
              "2946  0.153627 -0.018437 -0.137018 -0.330046 -0.195253 -0.164339 -0.430974   \n",
              "\n",
              "             7         8         9  ...       553       554       555  \\\n",
              "0    -0.925249 -0.674302 -0.894088  ... -0.705974  0.006462  0.162920   \n",
              "1    -0.968401 -0.945823 -0.894088  ... -0.594944 -0.083495  0.017500   \n",
              "2    -0.970735 -0.963483 -0.939260  ... -0.640736 -0.034956  0.202302   \n",
              "3    -0.974471 -0.968897 -0.938610  ... -0.736124 -0.017067  0.154438   \n",
              "4    -0.965953 -0.977346 -0.938610  ... -0.846595 -0.002223 -0.040046   \n",
              "...        ...       ...       ...  ...       ...       ...       ...   \n",
              "2942 -0.148775 -0.232057  0.185361  ... -0.750809 -0.337422  0.346295   \n",
              "2943 -0.030036 -0.270237  0.185361  ... -0.700274 -0.736701 -0.372889   \n",
              "2944 -0.133257 -0.347029  0.007471  ... -0.467179 -0.181560  0.088574   \n",
              "2945 -0.279610 -0.289477  0.007471  ... -0.617737  0.444558 -0.819188   \n",
              "2946 -0.218295 -0.229933 -0.111527  ... -0.436940  0.598808 -0.287951   \n",
              "\n",
              "           556       557       558       559       560  Subject  activity  \n",
              "0    -0.825886  0.271151 -0.720009  0.276801 -0.057978        2         5  \n",
              "1    -0.434375  0.920593 -0.698091  0.281343 -0.083898        2         5  \n",
              "2     0.064103  0.145068 -0.702771  0.280083 -0.079346        2         5  \n",
              "3     0.340134  0.296407 -0.698954  0.284114 -0.077108        2         5  \n",
              "4     0.736715 -0.118545 -0.692245  0.290722 -0.073857        2         5  \n",
              "...        ...       ...       ...       ...       ...      ...       ...  \n",
              "2942  0.884904 -0.698885 -0.651732  0.274627  0.184784       24         2  \n",
              "2943 -0.657421  0.322549 -0.655181  0.273578  0.182412       24         2  \n",
              "2944  0.696663  0.363139 -0.655357  0.274479  0.181184       24         2  \n",
              "2945  0.929294 -0.008398 -0.659719  0.264782  0.187563       24         2  \n",
              "2946  0.876030 -0.024965 -0.660080  0.263936  0.188103       24         2  \n",
              "\n",
              "[2947 rows x 563 columns]"
            ]
          },
          "execution_count": 45,
          "metadata": {},
          "output_type": "execute_result"
        }
      ],
      "source": [
        "test_df"
      ]
    },
    {
      "cell_type": "code",
      "execution_count": null,
      "metadata": {
        "colab": {
          "base_uri": "https://localhost:8080/"
        },
        "id": "lw4d9TuyMEvc",
        "outputId": "a5f834d1-b0f9-4578-c9b7-20288baf9fbb"
      },
      "outputs": [
        {
          "data": {
            "text/plain": [
              "6    1407\n",
              "5    1374\n",
              "4    1286\n",
              "1    1226\n",
              "2    1073\n",
              "3     986\n",
              "Name: activity, dtype: int64"
            ]
          },
          "execution_count": 46,
          "metadata": {},
          "output_type": "execute_result"
        }
      ],
      "source": [
        "train_df['activity'].value_counts()"
      ]
    },
    {
      "cell_type": "code",
      "execution_count": null,
      "metadata": {
        "id": "6wcckIAFMz0D"
      },
      "outputs": [],
      "source": [
        "train_df.to_csv('train.csv',index_label=False)"
      ]
    },
    {
      "cell_type": "code",
      "execution_count": null,
      "metadata": {
        "id": "aR1457k-Mzxq"
      },
      "outputs": [],
      "source": [
        "test_df.to_csv('test.csv',index_label=False)"
      ]
    },
    {
      "cell_type": "code",
      "execution_count": null,
      "metadata": {
        "colab": {
          "base_uri": "https://localhost:8080/"
        },
        "id": "L_1SvkkfMzv7",
        "outputId": "49bf3bd3-e958-4ce8-d83b-f78e2f56955c"
      },
      "outputs": [
        {
          "data": {
            "text/plain": [
              "(7352, 563)"
            ]
          },
          "execution_count": 49,
          "metadata": {},
          "output_type": "execute_result"
        }
      ],
      "source": [
        "train_df.shape"
      ]
    },
    {
      "cell_type": "code",
      "execution_count": null,
      "metadata": {
        "colab": {
          "base_uri": "https://localhost:8080/"
        },
        "id": "vZAzBmjFMztm",
        "outputId": "a80fa630-b401-4830-f2d6-953c0064b14b"
      },
      "outputs": [
        {
          "data": {
            "text/plain": [
              "(2947, 563)"
            ]
          },
          "execution_count": 50,
          "metadata": {},
          "output_type": "execute_result"
        }
      ],
      "source": [
        "test_df.shape"
      ]
    },
    {
      "cell_type": "code",
      "execution_count": null,
      "metadata": {
        "id": "hD__s5IIMEYS"
      },
      "outputs": [],
      "source": [
        "X_train=train_df.iloc[:,:-1]\n",
        "y_train=train_df.iloc[:,-1]"
      ]
    },
    {
      "cell_type": "code",
      "execution_count": null,
      "metadata": {
        "id": "fEJ5bLoWNDqw"
      },
      "outputs": [],
      "source": [
        "X_test=test_df.iloc[:,:-1]\n",
        "y_test=test_df.iloc[:,-1]"
      ]
    },
    {
      "cell_type": "code",
      "execution_count": null,
      "metadata": {
        "colab": {
          "base_uri": "https://localhost:8080/"
        },
        "id": "eQxmDg88NDoJ",
        "outputId": "9b0f90ad-c785-48db-f3d4-3a43e05da2a0"
      },
      "outputs": [
        {
          "name": "stdout",
          "output_type": "stream",
          "text": [
            "(7352, 562)\n",
            "(7352,)\n"
          ]
        }
      ],
      "source": [
        "print(X_train.shape)\n",
        "print(y_train.shape)"
      ]
    },
    {
      "cell_type": "markdown",
      "metadata": {
        "id": "gWBTky6zNNLI"
      },
      "source": [
        "###**RANDOM FOREST**"
      ]
    },
    {
      "cell_type": "code",
      "execution_count": null,
      "metadata": {
        "colab": {
          "base_uri": "https://localhost:8080/"
        },
        "id": "FxVFceHnNLui",
        "outputId": "6349e087-c653-49be-af93-e051f058f19c"
      },
      "outputs": [
        {
          "name": "stderr",
          "output_type": "stream",
          "text": [
            "/usr/local/lib/python3.8/dist-packages/sklearn/utils/validation.py:1688: FutureWarning: Feature names only support names that are all strings. Got feature names with dtypes: ['int', 'str']. An error will be raised in 1.2.\n",
            "  warnings.warn(\n"
          ]
        },
        {
          "data": {
            "text/plain": [
              "RandomForestClassifier()"
            ]
          },
          "execution_count": 54,
          "metadata": {},
          "output_type": "execute_result"
        }
      ],
      "source": [
        "from sklearn.ensemble import RandomForestClassifier\n",
        "rfc=RandomForestClassifier(criterion='gini',min_samples_split=2,n_estimators=100)\n",
        "rfc.fit(X_train,y_train)"
      ]
    },
    {
      "cell_type": "markdown",
      "metadata": {
        "id": "BZOxkaHUNXsL"
      },
      "source": [
        "###**DECISION TREE**"
      ]
    },
    {
      "cell_type": "code",
      "execution_count": null,
      "metadata": {
        "colab": {
          "base_uri": "https://localhost:8080/"
        },
        "id": "Wp3eX2RaNLsH",
        "outputId": "ff6ecb6d-ba47-44e3-c512-a400e2b16d9e"
      },
      "outputs": [
        {
          "name": "stderr",
          "output_type": "stream",
          "text": [
            "/usr/local/lib/python3.8/dist-packages/sklearn/utils/validation.py:1688: FutureWarning: Feature names only support names that are all strings. Got feature names with dtypes: ['int', 'str']. An error will be raised in 1.2.\n",
            "  warnings.warn(\n"
          ]
        },
        {
          "data": {
            "text/plain": [
              "DecisionTreeClassifier(min_samples_split=4)"
            ]
          },
          "execution_count": 55,
          "metadata": {},
          "output_type": "execute_result"
        }
      ],
      "source": [
        "from sklearn.tree import DecisionTreeClassifier\n",
        "dsc=DecisionTreeClassifier(criterion='gini',splitter='best',min_samples_split=4)\n",
        "dsc.fit(X_train,y_train)"
      ]
    },
    {
      "cell_type": "code",
      "execution_count": null,
      "metadata": {
        "colab": {
          "base_uri": "https://localhost:8080/"
        },
        "id": "_KBPv4uHNDlr",
        "outputId": "2cf559cf-23e3-4ea6-8b38-6fe90005d77e"
      },
      "outputs": [
        {
          "name": "stderr",
          "output_type": "stream",
          "text": [
            "/usr/local/lib/python3.8/dist-packages/sklearn/utils/validation.py:1688: FutureWarning: Feature names only support names that are all strings. Got feature names with dtypes: ['int', 'str']. An error will be raised in 1.2.\n",
            "  warnings.warn(\n"
          ]
        },
        {
          "data": {
            "text/plain": [
              "array([5, 5, 5, ..., 2, 2, 1])"
            ]
          },
          "execution_count": 56,
          "metadata": {},
          "output_type": "execute_result"
        }
      ],
      "source": [
        "y_pred_rfc=rfc.predict(X_test)\n",
        "y_pred_rfc"
      ]
    },
    {
      "cell_type": "code",
      "execution_count": null,
      "metadata": {
        "colab": {
          "base_uri": "https://localhost:8080/"
        },
        "id": "y74E7mXgNS1Y",
        "outputId": "dee32503-51ea-4d43-af53-8e7902715f75"
      },
      "outputs": [
        {
          "name": "stderr",
          "output_type": "stream",
          "text": [
            "/usr/local/lib/python3.8/dist-packages/sklearn/utils/validation.py:1688: FutureWarning: Feature names only support names that are all strings. Got feature names with dtypes: ['int', 'str']. An error will be raised in 1.2.\n",
            "  warnings.warn(\n"
          ]
        },
        {
          "data": {
            "text/plain": [
              "array([5, 5, 5, ..., 2, 1, 2])"
            ]
          },
          "execution_count": 57,
          "metadata": {},
          "output_type": "execute_result"
        }
      ],
      "source": [
        "y_pred_dsc=dsc.predict(X_test)\n",
        "y_pred_dsc"
      ]
    },
    {
      "cell_type": "code",
      "execution_count": null,
      "metadata": {
        "colab": {
          "base_uri": "https://localhost:8080/"
        },
        "id": "FUZcRpD0Nm25",
        "outputId": "f59b4f16-1a7f-40a1-aa56-0b22251fc21b"
      },
      "outputs": [
        {
          "name": "stderr",
          "output_type": "stream",
          "text": [
            "/usr/local/lib/python3.8/dist-packages/sklearn/utils/validation.py:1688: FutureWarning: Feature names only support names that are all strings. Got feature names with dtypes: ['int', 'str']. An error will be raised in 1.2.\n",
            "  warnings.warn(\n"
          ]
        },
        {
          "data": {
            "text/plain": [
              "0.9185612487275195"
            ]
          },
          "execution_count": 58,
          "metadata": {},
          "output_type": "execute_result"
        }
      ],
      "source": [
        "#Random Forest \n",
        "rfc.score(X_test,y_test)"
      ]
    },
    {
      "cell_type": "code",
      "execution_count": null,
      "metadata": {
        "colab": {
          "base_uri": "https://localhost:8080/"
        },
        "id": "PEDK7gYvNm0l",
        "outputId": "249a06eb-3798-48ff-ee99-d141b9b1870c"
      },
      "outputs": [
        {
          "name": "stderr",
          "output_type": "stream",
          "text": [
            "/usr/local/lib/python3.8/dist-packages/sklearn/utils/validation.py:1688: FutureWarning: Feature names only support names that are all strings. Got feature names with dtypes: ['int', 'str']. An error will be raised in 1.2.\n",
            "  warnings.warn(\n"
          ]
        },
        {
          "data": {
            "text/plain": [
              "0.8642687478791992"
            ]
          },
          "execution_count": 59,
          "metadata": {},
          "output_type": "execute_result"
        }
      ],
      "source": [
        "#Decision Tree\n",
        "dsc.score(X_test,y_test)"
      ]
    },
    {
      "cell_type": "code",
      "execution_count": null,
      "metadata": {
        "colab": {
          "base_uri": "https://localhost:8080/"
        },
        "id": "WEenEIavNSyJ",
        "outputId": "f2aa7690-7684-4ac5-c13a-e12c530c4384"
      },
      "outputs": [
        {
          "name": "stdout",
          "output_type": "stream",
          "text": [
            "              precision    recall  f1-score   support\n",
            "\n",
            "           1       0.88      0.97      0.92       496\n",
            "           2       0.89      0.89      0.89       471\n",
            "           3       0.96      0.84      0.90       420\n",
            "           4       0.90      0.88      0.89       491\n",
            "           5       0.89      0.91      0.90       532\n",
            "           6       1.00      1.00      1.00       537\n",
            "\n",
            "    accuracy                           0.92      2947\n",
            "   macro avg       0.92      0.92      0.92      2947\n",
            "weighted avg       0.92      0.92      0.92      2947\n",
            "\n"
          ]
        }
      ],
      "source": [
        "#1)Random Forest\n",
        "from sklearn.metrics import classification_report\n",
        "print(classification_report(y_test,y_pred_rfc))"
      ]
    },
    {
      "cell_type": "code",
      "execution_count": null,
      "metadata": {
        "colab": {
          "base_uri": "https://localhost:8080/"
        },
        "id": "aVsrg0nbNuMG",
        "outputId": "24c38253-ae76-4480-8013-a6c0992a9612"
      },
      "outputs": [
        {
          "name": "stdout",
          "output_type": "stream",
          "text": [
            "              precision    recall  f1-score   support\n",
            "\n",
            "           1       0.84      0.92      0.88       496\n",
            "           2       0.83      0.80      0.81       471\n",
            "           3       0.88      0.82      0.84       420\n",
            "           4       0.83      0.78      0.80       491\n",
            "           5       0.81      0.85      0.83       532\n",
            "           6       1.00      1.00      1.00       537\n",
            "\n",
            "    accuracy                           0.86      2947\n",
            "   macro avg       0.86      0.86      0.86      2947\n",
            "weighted avg       0.86      0.86      0.86      2947\n",
            "\n"
          ]
        }
      ],
      "source": [
        "#2)Decision Tree\n",
        "from sklearn.metrics import classification_report\n",
        "print(classification_report(y_test,y_pred_dsc))"
      ]
    },
    {
      "cell_type": "code",
      "execution_count": null,
      "metadata": {
        "id": "Jhywv2YBN3mX"
      },
      "outputs": [],
      "source": [
        "from sklearn.metrics import plot_confusion_matrix,confusion_matrix"
      ]
    },
    {
      "cell_type": "code",
      "execution_count": null,
      "metadata": {
        "colab": {
          "base_uri": "https://localhost:8080/",
          "height": 372
        },
        "id": "OvQcow_uN3kJ",
        "outputId": "5e99cdfb-8057-41cf-e035-47439519a96c"
      },
      "outputs": [
        {
          "name": "stderr",
          "output_type": "stream",
          "text": [
            "/usr/local/lib/python3.8/dist-packages/sklearn/utils/deprecation.py:87: FutureWarning: Function plot_confusion_matrix is deprecated; Function `plot_confusion_matrix` is deprecated in 1.0 and will be removed in 1.2. Use one of the class methods: ConfusionMatrixDisplay.from_predictions or ConfusionMatrixDisplay.from_estimator.\n",
            "  warnings.warn(msg, category=FutureWarning)\n",
            "/usr/local/lib/python3.8/dist-packages/sklearn/utils/validation.py:1688: FutureWarning: Feature names only support names that are all strings. Got feature names with dtypes: ['int', 'str']. An error will be raised in 1.2.\n",
            "  warnings.warn(\n"
          ]
        },
        {
          "data": {
            "image/png": "[encoded data removed]",
            "text/plain": [
              "<Figure size 432x288 with 2 Axes>"
            ]
          },
          "metadata": {},
          "output_type": "display_data"
        }
      ],
      "source": [
        "#1) Random Forest\n",
        "plot_confusion_matrix(dsc, X_test, y_test, cmap='inferno')\n",
        "plt.show()"
      ]
    },
    {
      "cell_type": "code",
      "execution_count": null,
      "metadata": {
        "colab": {
          "base_uri": "https://localhost:8080/",
          "height": 372
        },
        "id": "8SFyb1fINuJn",
        "outputId": "7c21c0e7-cb04-4ac7-9ec1-53cea262453f"
      },
      "outputs": [
        {
          "name": "stderr",
          "output_type": "stream",
          "text": [
            "/usr/local/lib/python3.8/dist-packages/sklearn/utils/deprecation.py:87: FutureWarning: Function plot_confusion_matrix is deprecated; Function `plot_confusion_matrix` is deprecated in 1.0 and will be removed in 1.2. Use one of the class methods: ConfusionMatrixDisplay.from_predictions or ConfusionMatrixDisplay.from_estimator.\n",
            "  warnings.warn(msg, category=FutureWarning)\n",
            "/usr/local/lib/python3.8/dist-packages/sklearn/utils/validation.py:1688: FutureWarning: Feature names only support names that are all strings. Got feature names with dtypes: ['int', 'str']. An error will be raised in 1.2.\n",
            "  warnings.warn(\n"
          ]
        },
        {
          "data": {
            "image/png": "[encoded data removed]",
            "text/plain": [
              "<Figure size 432x288 with 2 Axes>"
            ]
          },
          "metadata": {},
          "output_type": "display_data"
        }
      ],
      "source": [
        "#2) Decision Tree\n",
        "plot_confusion_matrix(rfc, X_test, y_test, cmap='inferno')\n",
        "plt.show()"
      ]
    },
    {
      "cell_type": "code",
      "execution_count": null,
      "metadata": {
        "id": "jE4AEzr3Oezs"
      },
      "outputs": [],
      "source": [
        "from sklearn.metrics import roc_auc_score"
      ]
    },
    {
      "cell_type": "code",
      "execution_count": null,
      "metadata": {
        "colab": {
          "base_uri": "https://localhost:8080/"
        },
        "id": "WwtphYy4Oexa",
        "outputId": "00691ef1-c3b7-4fe3-b201-bd1f92220a4b"
      },
      "outputs": [
        {
          "name": "stderr",
          "output_type": "stream",
          "text": [
            "/usr/local/lib/python3.8/dist-packages/sklearn/utils/validation.py:1688: FutureWarning: Feature names only support names that are all strings. Got feature names with dtypes: ['int', 'str']. An error will be raised in 1.2.\n",
            "  warnings.warn(\n"
          ]
        },
        {
          "data": {
            "text/plain": [
              "0.9948930011348195"
            ]
          },
          "execution_count": 66,
          "metadata": {},
          "output_type": "execute_result"
        }
      ],
      "source": [
        "roc_auc_score(y_test, rfc.predict_proba(X_test), multi_class='ovr')"
      ]
    },
    {
      "cell_type": "code",
      "execution_count": null,
      "metadata": {
        "colab": {
          "base_uri": "https://localhost:8080/"
        },
        "id": "u8Dyz9p2OmTS",
        "outputId": "552b309a-3cc2-432f-bbd7-3d36ebd05acd"
      },
      "outputs": [
        {
          "name": "stderr",
          "output_type": "stream",
          "text": [
            "/usr/local/lib/python3.8/dist-packages/sklearn/utils/validation.py:1688: FutureWarning: Feature names only support names that are all strings. Got feature names with dtypes: ['int', 'str']. An error will be raised in 1.2.\n",
            "  warnings.warn(\n"
          ]
        },
        {
          "data": {
            "text/plain": [
              "0.9176812828111262"
            ]
          },
          "execution_count": 67,
          "metadata": {},
          "output_type": "execute_result"
        }
      ],
      "source": [
        "roc_auc_score(y_test, dsc.predict_proba(X_test), multi_class='ovr')"
      ]
    },
    {
      "cell_type": "markdown",
      "metadata": {
        "id": "vhrfEXPpSfKs"
      },
      "source": [
        "##**KNN**"
      ]
    },
    {
      "cell_type": "code",
      "execution_count": null,
      "metadata": {
        "id": "ytLXkFWzTPiV"
      },
      "outputs": [],
      "source": [
        "import pandas as pd\n",
        "import numpy as np\n",
        "from sklearn.neighbors import KNeighborsClassifier as knn\n",
        "from sklearn.metrics import accuracy_score,confusion_matrix\n",
        "from sklearn.model_selection import GridSearchCV"
      ]
    },
    {
      "cell_type": "code",
      "execution_count": null,
      "metadata": {
        "id": "Gk1Su5O_Se8e"
      },
      "outputs": [],
      "source": [
        "train_data = pd.read_csv(\"train.csv\")\n",
        "test_data = pd.read_csv(\"test.csv\")"
      ]
    },
    {
      "cell_type": "code",
      "execution_count": null,
      "metadata": {
        "colab": {
          "base_uri": "https://localhost:8080/",
          "height": 299
        },
        "id": "iYWOs9eeSe48",
        "outputId": "c6c97b98-7d2e-4ccd-dcd9-4847030edf1a"
      },
      "outputs": [
        {
          "data": {
            "text/html": [
              "\n",
              "  <div id=\"df-2be718fc-eaff-455e-8ae7-d10add27cc7d\">\n",
              "    <div class=\"colab-df-container\">\n",
              "      <div>\n",
              "<style scoped>\n",
              "    .dataframe tbody tr th:only-of-type {\n",
              "        vertical-align: middle;\n",
              "    }\n",
              "\n",
              "    .dataframe tbody tr th {\n",
              "        vertical-align: top;\n",
              "    }\n",
              "\n",
              "    .dataframe thead th {\n",
              "        text-align: right;\n",
              "    }\n",
              "</style>\n",
              "<table border=\"1\" class=\"dataframe\">\n",
              "  <thead>\n",
              "    <tr style=\"text-align: right;\">\n",
              "      <th></th>\n",
              "      <th>0</th>\n",
              "      <th>1</th>\n",
              "      <th>2</th>\n",
              "      <th>3</th>\n",
              "      <th>4</th>\n",
              "      <th>5</th>\n",
              "      <th>6</th>\n",
              "      <th>7</th>\n",
              "      <th>8</th>\n",
              "      <th>9</th>\n",
              "      <th>...</th>\n",
              "      <th>553</th>\n",
              "      <th>554</th>\n",
              "      <th>555</th>\n",
              "      <th>556</th>\n",
              "      <th>557</th>\n",
              "      <th>558</th>\n",
              "      <th>559</th>\n",
              "      <th>560</th>\n",
              "      <th>Subject</th>\n",
              "      <th>activity</th>\n",
              "    </tr>\n",
              "  </thead>\n",
              "  <tbody>\n",
              "    <tr>\n",
              "      <th>0</th>\n",
              "      <td>0.288585</td>\n",
              "      <td>-0.020294</td>\n",
              "      <td>-0.132905</td>\n",
              "      <td>-0.995279</td>\n",
              "      <td>-0.983111</td>\n",
              "      <td>-0.913526</td>\n",
              "      <td>-0.995112</td>\n",
              "      <td>-0.983185</td>\n",
              "      <td>-0.923527</td>\n",
              "      <td>-0.934724</td>\n",
              "      <td>...</td>\n",
              "      <td>-0.710304</td>\n",
              "      <td>-0.112754</td>\n",
              "      <td>0.030400</td>\n",
              "      <td>-0.464761</td>\n",
              "      <td>-0.018446</td>\n",
              "      <td>-0.841247</td>\n",
              "      <td>0.179941</td>\n",
              "      <td>-0.058627</td>\n",
              "      <td>1</td>\n",
              "      <td>5</td>\n",
              "    </tr>\n",
              "    <tr>\n",
              "      <th>1</th>\n",
              "      <td>0.278419</td>\n",
              "      <td>-0.016411</td>\n",
              "      <td>-0.123520</td>\n",
              "      <td>-0.998245</td>\n",
              "      <td>-0.975300</td>\n",
              "      <td>-0.960322</td>\n",
              "      <td>-0.998807</td>\n",
              "      <td>-0.974914</td>\n",
              "      <td>-0.957686</td>\n",
              "      <td>-0.943068</td>\n",
              "      <td>...</td>\n",
              "      <td>-0.861499</td>\n",
              "      <td>0.053477</td>\n",
              "      <td>-0.007435</td>\n",
              "      <td>-0.732626</td>\n",
              "      <td>0.703511</td>\n",
              "      <td>-0.844788</td>\n",
              "      <td>0.180289</td>\n",
              "      <td>-0.054317</td>\n",
              "      <td>1</td>\n",
              "      <td>5</td>\n",
              "    </tr>\n",
              "    <tr>\n",
              "      <th>2</th>\n",
              "      <td>0.279653</td>\n",
              "      <td>-0.019467</td>\n",
              "      <td>-0.113462</td>\n",
              "      <td>-0.995380</td>\n",
              "      <td>-0.967187</td>\n",
              "      <td>-0.978944</td>\n",
              "      <td>-0.996520</td>\n",
              "      <td>-0.963668</td>\n",
              "      <td>-0.977469</td>\n",
              "      <td>-0.938692</td>\n",
              "      <td>...</td>\n",
              "      <td>-0.760104</td>\n",
              "      <td>-0.118559</td>\n",
              "      <td>0.177899</td>\n",
              "      <td>0.100699</td>\n",
              "      <td>0.808529</td>\n",
              "      <td>-0.848933</td>\n",
              "      <td>0.180637</td>\n",
              "      <td>-0.049118</td>\n",
              "      <td>1</td>\n",
              "      <td>5</td>\n",
              "    </tr>\n",
              "    <tr>\n",
              "      <th>3</th>\n",
              "      <td>0.279174</td>\n",
              "      <td>-0.026201</td>\n",
              "      <td>-0.123283</td>\n",
              "      <td>-0.996091</td>\n",
              "      <td>-0.983403</td>\n",
              "      <td>-0.990675</td>\n",
              "      <td>-0.997099</td>\n",
              "      <td>-0.982750</td>\n",
              "      <td>-0.989302</td>\n",
              "      <td>-0.938692</td>\n",
              "      <td>...</td>\n",
              "      <td>-0.482845</td>\n",
              "      <td>-0.036788</td>\n",
              "      <td>-0.012892</td>\n",
              "      <td>0.640011</td>\n",
              "      <td>-0.485366</td>\n",
              "      <td>-0.848649</td>\n",
              "      <td>0.181935</td>\n",
              "      <td>-0.047663</td>\n",
              "      <td>1</td>\n",
              "      <td>5</td>\n",
              "    </tr>\n",
              "    <tr>\n",
              "      <th>4</th>\n",
              "      <td>0.276629</td>\n",
              "      <td>-0.016570</td>\n",
              "      <td>-0.115362</td>\n",
              "      <td>-0.998139</td>\n",
              "      <td>-0.980817</td>\n",
              "      <td>-0.990482</td>\n",
              "      <td>-0.998321</td>\n",
              "      <td>-0.979672</td>\n",
              "      <td>-0.990441</td>\n",
              "      <td>-0.942469</td>\n",
              "      <td>...</td>\n",
              "      <td>-0.699205</td>\n",
              "      <td>0.123320</td>\n",
              "      <td>0.122542</td>\n",
              "      <td>0.693578</td>\n",
              "      <td>-0.615971</td>\n",
              "      <td>-0.847865</td>\n",
              "      <td>0.185151</td>\n",
              "      <td>-0.043892</td>\n",
              "      <td>1</td>\n",
              "      <td>5</td>\n",
              "    </tr>\n",
              "  </tbody>\n",
              "</table>\n",
              "<p>5 rows × 563 columns</p>\n",
              "</div>\n",
              "      <button class=\"colab-df-convert\" onclick=\"convertToInteractive('df-2be718fc-eaff-455e-8ae7-d10add27cc7d')\"\n",
              "              title=\"Convert this dataframe to an interactive table.\"\n",
              "              style=\"display:none;\">\n",
              "        \n",
              "  <svg xmlns=\"http://www.w3.org/2000/svg\" height=\"24px\"viewBox=\"0 0 24 24\"\n",
              "       width=\"24px\">\n",
              "    <path d=\"M0 0h24v24H0V0z\" fill=\"none\"/>\n",
              "    <path d=\"M18.56 5.44l.94 2.06.94-2.06 2.06-.94-2.06-.94-.94-2.06-.94 2.06-2.06.94zm-11 1L8.5 8.5l.94-2.06 2.06-.94-2.06-.94L8.5 2.5l-.94 2.06-2.06.94zm10 10l.94 2.06.94-2.06 2.06-.94-2.06-.94-.94-2.06-.94 2.06-2.06.94z\"/><path d=\"M17.41 7.96l-1.37-1.37c-.4-.4-.92-.59-1.43-.59-.52 0-1.04.2-1.43.59L10.3 9.45l-7.72 7.72c-.78.78-.78 2.05 0 2.83L4 21.41c.39.39.9.59 1.41.59.51 0 1.02-.2 1.41-.59l7.78-7.78 2.81-2.81c.8-.78.8-2.07 0-2.86zM5.41 20L4 18.59l7.72-7.72 1.47 1.35L5.41 20z\"/>\n",
              "  </svg>\n",
              "      </button>\n",
              "      \n",
              "  <style>\n",
              "    .colab-df-container {\n",
              "      display:flex;\n",
              "      flex-wrap:wrap;\n",
              "      gap: 12px;\n",
              "    }\n",
              "\n",
              "    .colab-df-convert {\n",
              "      background-color: #E8F0FE;\n",
              "      border: none;\n",
              "      border-radius: 50%;\n",
              "      cursor: pointer;\n",
              "      display: none;\n",
              "      fill: #1967D2;\n",
              "      height: 32px;\n",
              "      padding: 0 0 0 0;\n",
              "      width: 32px;\n",
              "    }\n",
              "\n",
              "    .colab-df-convert:hover {\n",
              "      background-color: #E2EBFA;\n",
              "      box-shadow: 0px 1px 2px rgba(60, 64, 67, 0.3), 0px 1px 3px 1px rgba(60, 64, 67, 0.15);\n",
              "      fill: #174EA6;\n",
              "    }\n",
              "\n",
              "    [theme=dark] .colab-df-convert {\n",
              "      background-color: #3B4455;\n",
              "      fill: #D2E3FC;\n",
              "    }\n",
              "\n",
              "    [theme=dark] .colab-df-convert:hover {\n",
              "      background-color: #434B5C;\n",
              "      box-shadow: 0px 1px 3px 1px rgba(0, 0, 0, 0.15);\n",
              "      filter: drop-shadow(0px 1px 2px rgba(0, 0, 0, 0.3));\n",
              "      fill: #FFFFFF;\n",
              "    }\n",
              "  </style>\n",
              "\n",
              "      <script>\n",
              "        const buttonEl =\n",
              "          document.querySelector('#df-2be718fc-eaff-455e-8ae7-d10add27cc7d button.colab-df-convert');\n",
              "        buttonEl.style.display =\n",
              "          google.colab.kernel.accessAllowed ? 'block' : 'none';\n",
              "\n",
              "        async function convertToInteractive(key) {\n",
              "          const element = document.querySelector('#df-2be718fc-eaff-455e-8ae7-d10add27cc7d');\n",
              "          const dataTable =\n",
              "            await google.colab.kernel.invokeFunction('convertToInteractive',\n",
              "                                                     [key], {});\n",
              "          if (!dataTable) return;\n",
              "\n",
              "          const docLinkHtml = 'Like what you see? Visit the ' +\n",
              "            '<a target=\"_blank\" href=https://colab.research.google.com/notebooks/data_table.ipynb>data table notebook</a>'\n",
              "            + ' to learn more about interactive tables.';\n",
              "          element.innerHTML = '';\n",
              "          dataTable['output_type'] = 'display_data';\n",
              "          await google.colab.output.renderOutput(dataTable, element);\n",
              "          const docLink = document.createElement('div');\n",
              "          docLink.innerHTML = docLinkHtml;\n",
              "          element.appendChild(docLink);\n",
              "        }\n",
              "      </script>\n",
              "    </div>\n",
              "  </div>\n",
              "  "
            ],
            "text/plain": [
              "          0         1         2         3         4         5         6  \\\n",
              "0  0.288585 -0.020294 -0.132905 -0.995279 -0.983111 -0.913526 -0.995112   \n",
              "1  0.278419 -0.016411 -0.123520 -0.998245 -0.975300 -0.960322 -0.998807   \n",
              "2  0.279653 -0.019467 -0.113462 -0.995380 -0.967187 -0.978944 -0.996520   \n",
              "3  0.279174 -0.026201 -0.123283 -0.996091 -0.983403 -0.990675 -0.997099   \n",
              "4  0.276629 -0.016570 -0.115362 -0.998139 -0.980817 -0.990482 -0.998321   \n",
              "\n",
              "          7         8         9  ...       553       554       555       556  \\\n",
              "0 -0.983185 -0.923527 -0.934724  ... -0.710304 -0.112754  0.030400 -0.464761   \n",
              "1 -0.974914 -0.957686 -0.943068  ... -0.861499  0.053477 -0.007435 -0.732626   \n",
              "2 -0.963668 -0.977469 -0.938692  ... -0.760104 -0.118559  0.177899  0.100699   \n",
              "3 -0.982750 -0.989302 -0.938692  ... -0.482845 -0.036788 -0.012892  0.640011   \n",
              "4 -0.979672 -0.990441 -0.942469  ... -0.699205  0.123320  0.122542  0.693578   \n",
              "\n",
              "        557       558       559       560  Subject  activity  \n",
              "0 -0.018446 -0.841247  0.179941 -0.058627        1         5  \n",
              "1  0.703511 -0.844788  0.180289 -0.054317        1         5  \n",
              "2  0.808529 -0.848933  0.180637 -0.049118        1         5  \n",
              "3 -0.485366 -0.848649  0.181935 -0.047663        1         5  \n",
              "4 -0.615971 -0.847865  0.185151 -0.043892        1         5  \n",
              "\n",
              "[5 rows x 563 columns]"
            ]
          },
          "execution_count": 70,
          "metadata": {},
          "output_type": "execute_result"
        }
      ],
      "source": [
        "train_data.head(5)"
      ]
    },
    {
      "cell_type": "code",
      "execution_count": null,
      "metadata": {
        "colab": {
          "base_uri": "https://localhost:8080/",
          "height": 299
        },
        "id": "6vrUWL3FSezh",
        "outputId": "d4ddc990-54b8-4f08-8bfb-a11d517d0923"
      },
      "outputs": [
        {
          "data": {
            "text/html": [
              "\n",
              "  <div id=\"df-e39bbbc9-0d0d-4efc-9fa0-9b275da331bb\">\n",
              "    <div class=\"colab-df-container\">\n",
              "      <div>\n",
              "<style scoped>\n",
              "    .dataframe tbody tr th:only-of-type {\n",
              "        vertical-align: middle;\n",
              "    }\n",
              "\n",
              "    .dataframe tbody tr th {\n",
              "        vertical-align: top;\n",
              "    }\n",
              "\n",
              "    .dataframe thead th {\n",
              "        text-align: right;\n",
              "    }\n",
              "</style>\n",
              "<table border=\"1\" class=\"dataframe\">\n",
              "  <thead>\n",
              "    <tr style=\"text-align: right;\">\n",
              "      <th></th>\n",
              "      <th>0</th>\n",
              "      <th>1</th>\n",
              "      <th>2</th>\n",
              "      <th>3</th>\n",
              "      <th>4</th>\n",
              "      <th>5</th>\n",
              "      <th>6</th>\n",
              "      <th>7</th>\n",
              "      <th>8</th>\n",
              "      <th>9</th>\n",
              "      <th>...</th>\n",
              "      <th>553</th>\n",
              "      <th>554</th>\n",
              "      <th>555</th>\n",
              "      <th>556</th>\n",
              "      <th>557</th>\n",
              "      <th>558</th>\n",
              "      <th>559</th>\n",
              "      <th>560</th>\n",
              "      <th>Subject</th>\n",
              "      <th>activity</th>\n",
              "    </tr>\n",
              "  </thead>\n",
              "  <tbody>\n",
              "    <tr>\n",
              "      <th>0</th>\n",
              "      <td>0.257178</td>\n",
              "      <td>-0.023285</td>\n",
              "      <td>-0.014654</td>\n",
              "      <td>-0.938404</td>\n",
              "      <td>-0.920091</td>\n",
              "      <td>-0.667683</td>\n",
              "      <td>-0.952501</td>\n",
              "      <td>-0.925249</td>\n",
              "      <td>-0.674302</td>\n",
              "      <td>-0.894088</td>\n",
              "      <td>...</td>\n",
              "      <td>-0.705974</td>\n",
              "      <td>0.006462</td>\n",
              "      <td>0.162920</td>\n",
              "      <td>-0.825886</td>\n",
              "      <td>0.271151</td>\n",
              "      <td>-0.720009</td>\n",
              "      <td>0.276801</td>\n",
              "      <td>-0.057978</td>\n",
              "      <td>2</td>\n",
              "      <td>5</td>\n",
              "    </tr>\n",
              "    <tr>\n",
              "      <th>1</th>\n",
              "      <td>0.286027</td>\n",
              "      <td>-0.013163</td>\n",
              "      <td>-0.119083</td>\n",
              "      <td>-0.975415</td>\n",
              "      <td>-0.967458</td>\n",
              "      <td>-0.944958</td>\n",
              "      <td>-0.986799</td>\n",
              "      <td>-0.968401</td>\n",
              "      <td>-0.945823</td>\n",
              "      <td>-0.894088</td>\n",
              "      <td>...</td>\n",
              "      <td>-0.594944</td>\n",
              "      <td>-0.083495</td>\n",
              "      <td>0.017500</td>\n",
              "      <td>-0.434375</td>\n",
              "      <td>0.920593</td>\n",
              "      <td>-0.698091</td>\n",
              "      <td>0.281343</td>\n",
              "      <td>-0.083898</td>\n",
              "      <td>2</td>\n",
              "      <td>5</td>\n",
              "    </tr>\n",
              "    <tr>\n",
              "      <th>2</th>\n",
              "      <td>0.275485</td>\n",
              "      <td>-0.026050</td>\n",
              "      <td>-0.118152</td>\n",
              "      <td>-0.993819</td>\n",
              "      <td>-0.969926</td>\n",
              "      <td>-0.962748</td>\n",
              "      <td>-0.994403</td>\n",
              "      <td>-0.970735</td>\n",
              "      <td>-0.963483</td>\n",
              "      <td>-0.939260</td>\n",
              "      <td>...</td>\n",
              "      <td>-0.640736</td>\n",
              "      <td>-0.034956</td>\n",
              "      <td>0.202302</td>\n",
              "      <td>0.064103</td>\n",
              "      <td>0.145068</td>\n",
              "      <td>-0.702771</td>\n",
              "      <td>0.280083</td>\n",
              "      <td>-0.079346</td>\n",
              "      <td>2</td>\n",
              "      <td>5</td>\n",
              "    </tr>\n",
              "    <tr>\n",
              "      <th>3</th>\n",
              "      <td>0.270298</td>\n",
              "      <td>-0.032614</td>\n",
              "      <td>-0.117520</td>\n",
              "      <td>-0.994743</td>\n",
              "      <td>-0.973268</td>\n",
              "      <td>-0.967091</td>\n",
              "      <td>-0.995274</td>\n",
              "      <td>-0.974471</td>\n",
              "      <td>-0.968897</td>\n",
              "      <td>-0.938610</td>\n",
              "      <td>...</td>\n",
              "      <td>-0.736124</td>\n",
              "      <td>-0.017067</td>\n",
              "      <td>0.154438</td>\n",
              "      <td>0.340134</td>\n",
              "      <td>0.296407</td>\n",
              "      <td>-0.698954</td>\n",
              "      <td>0.284114</td>\n",
              "      <td>-0.077108</td>\n",
              "      <td>2</td>\n",
              "      <td>5</td>\n",
              "    </tr>\n",
              "    <tr>\n",
              "      <th>4</th>\n",
              "      <td>0.274833</td>\n",
              "      <td>-0.027848</td>\n",
              "      <td>-0.129527</td>\n",
              "      <td>-0.993852</td>\n",
              "      <td>-0.967445</td>\n",
              "      <td>-0.978295</td>\n",
              "      <td>-0.994111</td>\n",
              "      <td>-0.965953</td>\n",
              "      <td>-0.977346</td>\n",
              "      <td>-0.938610</td>\n",
              "      <td>...</td>\n",
              "      <td>-0.846595</td>\n",
              "      <td>-0.002223</td>\n",
              "      <td>-0.040046</td>\n",
              "      <td>0.736715</td>\n",
              "      <td>-0.118545</td>\n",
              "      <td>-0.692245</td>\n",
              "      <td>0.290722</td>\n",
              "      <td>-0.073857</td>\n",
              "      <td>2</td>\n",
              "      <td>5</td>\n",
              "    </tr>\n",
              "  </tbody>\n",
              "</table>\n",
              "<p>5 rows × 563 columns</p>\n",
              "</div>\n",
              "      <button class=\"colab-df-convert\" onclick=\"convertToInteractive('df-e39bbbc9-0d0d-4efc-9fa0-9b275da331bb')\"\n",
              "              title=\"Convert this dataframe to an interactive table.\"\n",
              "              style=\"display:none;\">\n",
              "        \n",
              "  <svg xmlns=\"http://www.w3.org/2000/svg\" height=\"24px\"viewBox=\"0 0 24 24\"\n",
              "       width=\"24px\">\n",
              "    <path d=\"M0 0h24v24H0V0z\" fill=\"none\"/>\n",
              "    <path d=\"M18.56 5.44l.94 2.06.94-2.06 2.06-.94-2.06-.94-.94-2.06-.94 2.06-2.06.94zm-11 1L8.5 8.5l.94-2.06 2.06-.94-2.06-.94L8.5 2.5l-.94 2.06-2.06.94zm10 10l.94 2.06.94-2.06 2.06-.94-2.06-.94-.94-2.06-.94 2.06-2.06.94z\"/><path d=\"M17.41 7.96l-1.37-1.37c-.4-.4-.92-.59-1.43-.59-.52 0-1.04.2-1.43.59L10.3 9.45l-7.72 7.72c-.78.78-.78 2.05 0 2.83L4 21.41c.39.39.9.59 1.41.59.51 0 1.02-.2 1.41-.59l7.78-7.78 2.81-2.81c.8-.78.8-2.07 0-2.86zM5.41 20L4 18.59l7.72-7.72 1.47 1.35L5.41 20z\"/>\n",
              "  </svg>\n",
              "      </button>\n",
              "      \n",
              "  <style>\n",
              "    .colab-df-container {\n",
              "      display:flex;\n",
              "      flex-wrap:wrap;\n",
              "      gap: 12px;\n",
              "    }\n",
              "\n",
              "    .colab-df-convert {\n",
              "      background-color: #E8F0FE;\n",
              "      border: none;\n",
              "      border-radius: 50%;\n",
              "      cursor: pointer;\n",
              "      display: none;\n",
              "      fill: #1967D2;\n",
              "      height: 32px;\n",
              "      padding: 0 0 0 0;\n",
              "      width: 32px;\n",
              "    }\n",
              "\n",
              "    .colab-df-convert:hover {\n",
              "      background-color: #E2EBFA;\n",
              "      box-shadow: 0px 1px 2px rgba(60, 64, 67, 0.3), 0px 1px 3px 1px rgba(60, 64, 67, 0.15);\n",
              "      fill: #174EA6;\n",
              "    }\n",
              "\n",
              "    [theme=dark] .colab-df-convert {\n",
              "      background-color: #3B4455;\n",
              "      fill: #D2E3FC;\n",
              "    }\n",
              "\n",
              "    [theme=dark] .colab-df-convert:hover {\n",
              "      background-color: #434B5C;\n",
              "      box-shadow: 0px 1px 3px 1px rgba(0, 0, 0, 0.15);\n",
              "      filter: drop-shadow(0px 1px 2px rgba(0, 0, 0, 0.3));\n",
              "      fill: #FFFFFF;\n",
              "    }\n",
              "  </style>\n",
              "\n",
              "      <script>\n",
              "        const buttonEl =\n",
              "          document.querySelector('#df-e39bbbc9-0d0d-4efc-9fa0-9b275da331bb button.colab-df-convert');\n",
              "        buttonEl.style.display =\n",
              "          google.colab.kernel.accessAllowed ? 'block' : 'none';\n",
              "\n",
              "        async function convertToInteractive(key) {\n",
              "          const element = document.querySelector('#df-e39bbbc9-0d0d-4efc-9fa0-9b275da331bb');\n",
              "          const dataTable =\n",
              "            await google.colab.kernel.invokeFunction('convertToInteractive',\n",
              "                                                     [key], {});\n",
              "          if (!dataTable) return;\n",
              "\n",
              "          const docLinkHtml = 'Like what you see? Visit the ' +\n",
              "            '<a target=\"_blank\" href=https://colab.research.google.com/notebooks/data_table.ipynb>data table notebook</a>'\n",
              "            + ' to learn more about interactive tables.';\n",
              "          element.innerHTML = '';\n",
              "          dataTable['output_type'] = 'display_data';\n",
              "          await google.colab.output.renderOutput(dataTable, element);\n",
              "          const docLink = document.createElement('div');\n",
              "          docLink.innerHTML = docLinkHtml;\n",
              "          element.appendChild(docLink);\n",
              "        }\n",
              "      </script>\n",
              "    </div>\n",
              "  </div>\n",
              "  "
            ],
            "text/plain": [
              "          0         1         2         3         4         5         6  \\\n",
              "0  0.257178 -0.023285 -0.014654 -0.938404 -0.920091 -0.667683 -0.952501   \n",
              "1  0.286027 -0.013163 -0.119083 -0.975415 -0.967458 -0.944958 -0.986799   \n",
              "2  0.275485 -0.026050 -0.118152 -0.993819 -0.969926 -0.962748 -0.994403   \n",
              "3  0.270298 -0.032614 -0.117520 -0.994743 -0.973268 -0.967091 -0.995274   \n",
              "4  0.274833 -0.027848 -0.129527 -0.993852 -0.967445 -0.978295 -0.994111   \n",
              "\n",
              "          7         8         9  ...       553       554       555       556  \\\n",
              "0 -0.925249 -0.674302 -0.894088  ... -0.705974  0.006462  0.162920 -0.825886   \n",
              "1 -0.968401 -0.945823 -0.894088  ... -0.594944 -0.083495  0.017500 -0.434375   \n",
              "2 -0.970735 -0.963483 -0.939260  ... -0.640736 -0.034956  0.202302  0.064103   \n",
              "3 -0.974471 -0.968897 -0.938610  ... -0.736124 -0.017067  0.154438  0.340134   \n",
              "4 -0.965953 -0.977346 -0.938610  ... -0.846595 -0.002223 -0.040046  0.736715   \n",
              "\n",
              "        557       558       559       560  Subject  activity  \n",
              "0  0.271151 -0.720009  0.276801 -0.057978        2         5  \n",
              "1  0.920593 -0.698091  0.281343 -0.083898        2         5  \n",
              "2  0.145068 -0.702771  0.280083 -0.079346        2         5  \n",
              "3  0.296407 -0.698954  0.284114 -0.077108        2         5  \n",
              "4 -0.118545 -0.692245  0.290722 -0.073857        2         5  \n",
              "\n",
              "[5 rows x 563 columns]"
            ]
          },
          "execution_count": 71,
          "metadata": {},
          "output_type": "execute_result"
        }
      ],
      "source": [
        "test_data.head(5)"
      ]
    },
    {
      "cell_type": "code",
      "execution_count": null,
      "metadata": {
        "colab": {
          "base_uri": "https://localhost:8080/"
        },
        "id": "kFRzdi7vSevF",
        "outputId": "4d4f9e2c-3ccb-47d1-a5ee-e6c81ddb9574"
      },
      "outputs": [
        {
          "data": {
            "text/plain": [
              "((7352, 563), (2947, 563))"
            ]
          },
          "execution_count": 72,
          "metadata": {},
          "output_type": "execute_result"
        }
      ],
      "source": [
        "train_data.shape, test_data.shape"
      ]
    },
    {
      "cell_type": "code",
      "execution_count": null,
      "metadata": {
        "id": "J4UdHQvWowVO"
      },
      "outputs": [],
      "source": [
        "xtrain = train_data.iloc[:,0:562]\n",
        "ytrain=train_data['activity']\n",
        "xtest = test_data.iloc[:,0:562]\n",
        "ytest =test_data['activity']"
      ]
    },
    {
      "cell_type": "code",
      "execution_count": null,
      "metadata": {
        "colab": {
          "base_uri": "https://localhost:8080/"
        },
        "id": "gRe-rUi_owRw",
        "outputId": "41a30f5a-167c-4e23-b6fe-a9805cbfa143"
      },
      "outputs": [
        {
          "data": {
            "text/plain": [
              "((7352, 562), (2947, 562))"
            ]
          },
          "execution_count": 74,
          "metadata": {},
          "output_type": "execute_result"
        }
      ],
      "source": [
        "xtrain.shape, xtest.shape"
      ]
    },
    {
      "cell_type": "code",
      "execution_count": null,
      "metadata": {
        "colab": {
          "base_uri": "https://localhost:8080/"
        },
        "id": "CwcQdy4AuXzu",
        "outputId": "a8f89d9f-c54f-4026-c380-d2c48ad9fa5c"
      },
      "outputs": [
        {
          "data": {
            "text/plain": [
              "6    1407\n",
              "5    1374\n",
              "4    1286\n",
              "1    1226\n",
              "2    1073\n",
              "3     986\n",
              "Name: activity, dtype: int64"
            ]
          },
          "execution_count": 75,
          "metadata": {},
          "output_type": "execute_result"
        }
      ],
      "source": [
        "train_data['activity'].value_counts()"
      ]
    },
    {
      "cell_type": "code",
      "execution_count": null,
      "metadata": {
        "id": "LgzLZEASuXsg"
      },
      "outputs": [],
      "source": [
        "model = knn(n_jobs=-1)\n",
        "#Hyper Parameters Set\n",
        "metrics = ['euclidean','manhattan'] \n",
        "neighbors = np.arange(1, 16)\n",
        "param_grid  = dict(metric=metrics, n_neighbors=neighbors)\n",
        "tune_model = GridSearchCV(model, param_grid, cv=10, scoring='accuracy', refit=True)"
      ]
    },
    {
      "cell_type": "code",
      "execution_count": null,
      "metadata": {
        "colab": {
          "background_save": true
        },
        "id": "1L0XlRGfu6dF",
        "outputId": "b8575a3f-6e75-420a-9701-af272b33e970"
      },
      "outputs": [
        {
          "data": {
            "text/plain": [
              "GridSearchCV(cv=10, estimator=KNeighborsClassifier(n_jobs=-1),\n",
              "             param_grid={'metric': ['euclidean', 'manhattan'],\n",
              "                         'n_neighbors': array([ 1,  2,  3,  4,  5,  6,  7,  8,  9, 10, 11, 12, 13, 14, 15])},\n",
              "             scoring='accuracy')"
            ]
          },
          "execution_count": 77,
          "metadata": {},
          "output_type": "execute_result"
        }
      ],
      "source": [
        "tune_model.fit(xtrain,ytrain)"
      ]
    },
    {
      "cell_type": "code",
      "execution_count": null,
      "metadata": {
        "colab": {
          "background_save": true
        },
        "id": "ZzVPw96ru6a9",
        "outputId": "c408c12d-debe-4ba9-b554-14aabc38a8dd"
      },
      "outputs": [
        {
          "name": "stdout",
          "output_type": "stream",
          "text": [
            "Best Hyper Parameters:\n",
            " {'metric': 'manhattan', 'n_neighbors': 10}\n"
          ]
        }
      ],
      "source": [
        "print(\"Best Hyper Parameters:\\n\",tune_model.best_params_)"
      ]
    },
    {
      "cell_type": "code",
      "execution_count": null,
      "metadata": {
        "colab": {
          "background_save": true
        },
        "id": "zBqse17uu6YD"
      },
      "outputs": [],
      "source": [
        "y_predict= tune_model.predict(xtest)"
      ]
    },
    {
      "cell_type": "code",
      "execution_count": null,
      "metadata": {
        "colab": {
          "background_save": true
        },
        "id": "1YTevNgQ3xoC",
        "outputId": "1fca59b2-a9e6-43d1-e07b-fe6a6c2b3d05"
      },
      "outputs": [
        {
          "data": {
            "text/plain": [
              "0.9107567017305734"
            ]
          },
          "execution_count": 80,
          "metadata": {},
          "output_type": "execute_result"
        }
      ],
      "source": [
        "accuracy_score(y_predict, ytest)"
      ]
    },
    {
      "cell_type": "code",
      "execution_count": null,
      "metadata": {
        "colab": {
          "background_save": true
        },
        "id": "rDxUhCy13xlA",
        "outputId": "785f3cc0-0989-414b-e313-13469303780b"
      },
      "outputs": [
        {
          "data": {
            "text/plain": [
              "array([[484,  44,  51,   0,   0,   0],\n",
              "       [  7, 424,  34,   1,   0,   0],\n",
              "       [  5,   3, 335,   0,   0,   0],\n",
              "       [  0,   0,   0, 408,  29,   2],\n",
              "       [  0,   0,   0,  82, 503,   5],\n",
              "       [  0,   0,   0,   0,   0, 530]])"
            ]
          },
          "execution_count": 81,
          "metadata": {},
          "output_type": "execute_result"
        }
      ],
      "source": [
        "confusion_matrix(y_predict, ytest)"
      ]
    },
    {
      "cell_type": "code",
      "execution_count": null,
      "metadata": {
        "colab": {
          "background_save": true
        },
        "id": "Cf1e0ZdZ44ln"
      },
      "outputs": [],
      "source": [
        "import pickle"
      ]
    },
    {
      "cell_type": "code",
      "execution_count": null,
      "metadata": {
        "colab": {
          "background_save": true
        },
        "id": "D4Y7xJtz44iy"
      },
      "outputs": [],
      "source": [
        "pickle.dump(tune_model,open(\"KNN_Model.pkl\",\"wb+\"),protocol=pickle.HIGHEST_PROTOCOL)"
      ]
    },
    {
      "cell_type": "markdown",
      "metadata": {
        "id": "Mps3xGqF5d-j"
      },
      "source": [
        "##**LINEAR SVM**"
      ]
    },
    {
      "cell_type": "code",
      "execution_count": null,
      "metadata": {
        "colab": {
          "background_save": true
        },
        "id": "dOWM1MQ-5gry"
      },
      "outputs": [],
      "source": [
        "import numpy as nm  \n",
        "import matplotlib.pyplot as mtp \n",
        "import pandas as pd"
      ]
    },
    {
      "cell_type": "code",
      "execution_count": null,
      "metadata": {
        "colab": {
          "background_save": true
        },
        "id": "RV9DKcJF5gpc"
      },
      "outputs": [],
      "source": [
        "train_dataset=pd.read_csv('/content/train.csv')\n",
        "test_dataset=pd.read_csv('/content/test.csv')"
      ]
    },
    {
      "cell_type": "code",
      "execution_count": null,
      "metadata": {
        "colab": {
          "background_save": true
        },
        "id": "4m_MFUfn5gnO"
      },
      "outputs": [],
      "source": [
        "x_train = train_dataset.iloc[:, 0 : 562].values  \n",
        "y_train = train_dataset.iloc[:, 562].values \n",
        "x_test = test_dataset.iloc[:, 0 : 562].values  \n",
        "y_test = test_dataset.iloc[:, 562].values "
      ]
    },
    {
      "cell_type": "code",
      "execution_count": null,
      "metadata": {
        "colab": {
          "background_save": true
        },
        "id": "BKv-CzKB7oWS",
        "outputId": "eddc33e3-a83e-457b-b1a6-a060e8389008"
      },
      "outputs": [
        {
          "data": {
            "text/plain": [
              "SVC(kernel='linear', random_state=0)"
            ]
          },
          "execution_count": 87,
          "metadata": {},
          "output_type": "execute_result"
        }
      ],
      "source": [
        "from sklearn.svm import SVC \n",
        "# \"Support vector classifier\"  \n",
        "classifier = SVC(kernel='linear', random_state=0)  \n",
        "classifier.fit(x_train, y_train)  \n",
        "     "
      ]
    },
    {
      "cell_type": "code",
      "execution_count": null,
      "metadata": {
        "colab": {
          "background_save": true
        },
        "id": "cPCOz31p5gkv"
      },
      "outputs": [],
      "source": [
        "y_pred= classifier.predict(x_test)"
      ]
    },
    {
      "cell_type": "code",
      "execution_count": null,
      "metadata": {
        "colab": {
          "background_save": true
        },
        "id": "ys0Y9H125gGJ",
        "outputId": "2d37a23e-b628-4c31-a4a0-841ac464e73d"
      },
      "outputs": [
        {
          "data": {
            "text/plain": [
              "0.9633525619273838"
            ]
          },
          "execution_count": 89,
          "metadata": {},
          "output_type": "execute_result"
        }
      ],
      "source": [
        "accuracy_score(y_test, y_pred)"
      ]
    },
    {
      "cell_type": "code",
      "execution_count": null,
      "metadata": {
        "colab": {
          "background_save": true
        },
        "id": "XtXTMMlq74wR"
      },
      "outputs": [],
      "source": [
        "from sklearn.metrics import classification_report"
      ]
    },
    {
      "cell_type": "code",
      "execution_count": null,
      "metadata": {
        "colab": {
          "background_save": true
        },
        "id": "XTuR-wCc74tv",
        "outputId": "0470ddc6-4ee1-4f91-abc0-1ec85cbe04f8"
      },
      "outputs": [
        {
          "name": "stdout",
          "output_type": "stream",
          "text": [
            "              precision    recall  f1-score   support\n",
            "\n",
            "           1       0.95      1.00      0.97       496\n",
            "           2       0.98      0.95      0.97       471\n",
            "           3       0.99      0.98      0.98       420\n",
            "           4       0.96      0.89      0.92       491\n",
            "           5       0.90      0.97      0.94       532\n",
            "           6       1.00      1.00      1.00       537\n",
            "\n",
            "    accuracy                           0.96      2947\n",
            "   macro avg       0.97      0.96      0.96      2947\n",
            "weighted avg       0.96      0.96      0.96      2947\n",
            "\n"
          ]
        }
      ],
      "source": [
        "print(classification_report(y_test, y_pred))"
      ]
    },
    {
      "cell_type": "code",
      "execution_count": null,
      "metadata": {
        "colab": {
          "background_save": true
        },
        "id": "B0LZMZMd8pvy",
        "outputId": "c5e4b679-a14b-4006-dc33-39c2cac7c859"
      },
      "outputs": [
        {
          "data": {
            "text/plain": [
              "array([[494,   1,   1,   0,   0,   0],\n",
              "       [ 22, 447,   2,   0,   0,   0],\n",
              "       [  4,   6, 410,   0,   0,   0],\n",
              "       [  0,   1,   0, 435,  55,   0],\n",
              "       [  0,   0,   0,  16, 516,   0],\n",
              "       [  0,   0,   0,   0,   0, 537]])"
            ]
          },
          "execution_count": 92,
          "metadata": {},
          "output_type": "execute_result"
        }
      ],
      "source": [
        "confusion_matrix(y_test, y_pred) "
      ]
    },
    {
      "cell_type": "code",
      "execution_count": null,
      "metadata": {
        "colab": {
          "background_save": true
        },
        "id": "ltN28AQk8prr"
      },
      "outputs": [],
      "source": [
        "file = \"SVM_Model.pkl\"\n",
        "fileObj = open(file , 'wb+')"
      ]
    },
    {
      "cell_type": "code",
      "execution_count": null,
      "metadata": {
        "colab": {
          "background_save": true
        },
        "id": "DF6baXTN9xjK"
      },
      "outputs": [],
      "source": [
        "pickle.dump(classifier, fileObj, protocol=pickle.HIGHEST_PROTOCOL)"
      ]
    },
    {
      "cell_type": "markdown",
      "source": [
        "##**CONCLUSION**\n",
        "\n",
        "| Model Name             \t| Accuracy Acheived \t|\n",
        "|------------------------\t|-------------------\t|\n",
        "| Linear SVM             \t| 96%               \t|\n",
        "| Decision Tree          \t| 86.4%             \t|\n",
        "| Random Forest          \t| 91.8%             \t|\n",
        "| KNN                    \t| 91%               \t|\n",
        "| Stacked LSTM            | 91.4%               |\n",
        "\n",
        "Hence, Linear SVM can be used to make predictions. \n",
        "The future work for the same includes collecting firbases and deploying the model as a full fledged android application that can be installed in the employees' mobile phone "
      ],
      "metadata": {
        "id": "FxUkl60OiQ5m"
      }
    }
  ],
  "metadata": {
    "accelerator": "GPU",
    "colab": {
      "provenance": []
    },
    "gpuClass": "standard",
    "kernelspec": {
      "display_name": "Python 3",
      "name": "python3"
    },
    "language_info": {
      "name": "python"
    }
  },
  "nbformat": 4,
  "nbformat_minor": 0
}